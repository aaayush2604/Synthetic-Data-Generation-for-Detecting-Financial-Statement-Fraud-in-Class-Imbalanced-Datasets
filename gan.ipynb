{
 "cells": [
  {
   "cell_type": "code",
   "execution_count": 1,
   "metadata": {},
   "outputs": [],
   "source": [
    "import pandas as pd\n",
    "import numpy as np\n",
    "import matplotlib.pyplot as plt\n",
    "import seaborn as sns"
   ]
  },
  {
   "cell_type": "code",
   "execution_count": 2,
   "metadata": {},
   "outputs": [
    {
     "name": "stdout",
     "output_type": "stream",
     "text": [
      "Index(['fyear', 'gvkey', 'p_aaer', 'misstate', 'act', 'ap', 'at', 'ceq', 'che',\n",
      "       'cogs', 'csho', 'dlc', 'dltis', 'dltt', 'dp', 'ib', 'invt', 'ivao',\n",
      "       'ivst', 'lct', 'lt', 'ni', 'ppegt', 'pstk', 're', 'rect', 'sale',\n",
      "       'sstk', 'txp', 'txt', 'xint', 'prcc_f', 'dch_wc', 'ch_rsst', 'dch_rec',\n",
      "       'dch_inv', 'soft_assets', 'ch_cs', 'ch_cm', 'ch_roa', 'issue', 'bm',\n",
      "       'dpi', 'reoa', 'EBIT', 'ch_fcf'],\n",
      "      dtype='object')\n",
      "<class 'pandas.core.frame.DataFrame'>\n",
      "RangeIndex: 146045 entries, 0 to 146044\n",
      "Data columns (total 46 columns):\n",
      " #   Column       Non-Null Count   Dtype  \n",
      "---  ------       --------------   -----  \n",
      " 0   fyear        146045 non-null  int64  \n",
      " 1   gvkey        146045 non-null  int64  \n",
      " 2   p_aaer       964 non-null     float64\n",
      " 3   misstate     146045 non-null  int64  \n",
      " 4   act          146045 non-null  float64\n",
      " 5   ap           146045 non-null  float64\n",
      " 6   at           146045 non-null  float64\n",
      " 7   ceq          146045 non-null  float64\n",
      " 8   che          146045 non-null  float64\n",
      " 9   cogs         146045 non-null  float64\n",
      " 10  csho         146045 non-null  float64\n",
      " 11  dlc          146045 non-null  float64\n",
      " 12  dltis        146045 non-null  float64\n",
      " 13  dltt         146045 non-null  float64\n",
      " 14  dp           146045 non-null  float64\n",
      " 15  ib           146045 non-null  float64\n",
      " 16  invt         146045 non-null  float64\n",
      " 17  ivao         146045 non-null  float64\n",
      " 18  ivst         146045 non-null  float64\n",
      " 19  lct          146045 non-null  float64\n",
      " 20  lt           146045 non-null  float64\n",
      " 21  ni           146045 non-null  float64\n",
      " 22  ppegt        146045 non-null  float64\n",
      " 23  pstk         146045 non-null  float64\n",
      " 24  re           146045 non-null  float64\n",
      " 25  rect         146045 non-null  float64\n",
      " 26  sale         146045 non-null  float64\n",
      " 27  sstk         146045 non-null  float64\n",
      " 28  txp          146045 non-null  float64\n",
      " 29  txt          146045 non-null  float64\n",
      " 30  xint         146045 non-null  float64\n",
      " 31  prcc_f       146045 non-null  float64\n",
      " 32  dch_wc       141286 non-null  float64\n",
      " 33  ch_rsst      141194 non-null  float64\n",
      " 34  dch_rec      141302 non-null  float64\n",
      " 35  dch_inv      141430 non-null  float64\n",
      " 36  soft_assets  145453 non-null  float64\n",
      " 37  ch_cs        130127 non-null  float64\n",
      " 38  ch_cm        128938 non-null  float64\n",
      " 39  ch_roa       133367 non-null  float64\n",
      " 40  issue        146045 non-null  int64  \n",
      " 41  bm           146027 non-null  float64\n",
      " 42  dpi          136817 non-null  float64\n",
      " 43  reoa         145454 non-null  float64\n",
      " 44  EBIT         145454 non-null  float64\n",
      " 45  ch_fcf       140638 non-null  float64\n",
      "dtypes: float64(42), int64(4)\n",
      "memory usage: 51.3 MB\n"
     ]
    }
   ],
   "source": [
    "data=pd.read_csv('data_FraudDetection_JAR2020.csv')\n",
    "\n",
    "print(data.columns)\n",
    "data.info()"
   ]
  },
  {
   "cell_type": "code",
   "execution_count": 3,
   "metadata": {},
   "outputs": [
    {
     "name": "stdout",
     "output_type": "stream",
     "text": [
      "Count of misstate = 1: 964\n",
      "Count of misstate = 0: 145081\n"
     ]
    }
   ],
   "source": [
    "print(\"Count of misstate = 1:\", (data['misstate'] == 1).sum())\n",
    "print(\"Count of misstate = 0:\", (data['misstate'] == 0).sum())"
   ]
  },
  {
   "cell_type": "code",
   "execution_count": 4,
   "metadata": {},
   "outputs": [],
   "source": [
    "from sdv.metadata import SingleTableMetadata\n",
    "\n",
    "# Create metadata\n",
    "metadata = SingleTableMetadata()\n",
    "metadata.detect_from_dataframe(data)"
   ]
  },
  {
   "cell_type": "code",
   "execution_count": 5,
   "metadata": {},
   "outputs": [
    {
     "name": "stderr",
     "output_type": "stream",
     "text": [
      "c:\\Python311\\Lib\\site-packages\\sdv\\single_table\\base.py:119: FutureWarning:\n",
      "\n",
      "The 'SingleTableMetadata' is deprecated. Please use the new 'Metadata' class for synthesizers.\n",
      "\n",
      "c:\\Python311\\Lib\\site-packages\\sdv\\single_table\\base.py:104: UserWarning:\n",
      "\n",
      "We strongly recommend saving the metadata using 'save_to_json' for replicability in future SDV versions.\n",
      "\n",
      "Gen. (-4.74) | Discrim. (0.44): 100%|██████████| 50/50 [46:12<00:00, 55.44s/it] \n"
     ]
    }
   ],
   "source": [
    "from sdv.single_table import CTGANSynthesizer\n",
    "\n",
    "synthesizer = CTGANSynthesizer(metadata,verbose=True,epochs=50)\n",
    "synthesizer.fit(data)"
   ]
  },
  {
   "cell_type": "code",
   "execution_count": 6,
   "metadata": {},
   "outputs": [
    {
     "data": {
      "application/vnd.plotly.v1+json": {
       "config": {
        "plotlyServerURL": "https://plot.ly"
       },
       "data": [
        {
         "hovertemplate": "variable=Generator Loss<br>Epoch=%{x}<br>value=%{y}<extra></extra>",
         "legendgroup": "Generator Loss",
         "line": {
          "color": "#000036",
          "dash": "solid"
         },
         "marker": {
          "symbol": "circle"
         },
         "mode": "lines",
         "name": "Generator Loss",
         "orientation": "v",
         "showlegend": true,
         "type": "scatter",
         "x": {
          "bdata": "AAECAwQFBgcICQoLDA0ODxAREhMUFRYXGBkaGxwdHh8gISIjJCUmJygpKissLS4vMDE=",
          "dtype": "i1"
         },
         "xaxis": "x",
         "y": {
          "bdata": "AAAAwDohD8AAAAAAdbkPwAAAAOBAWfm/AAAAoN2CBMAAAADgjmEAwAAAAMCbTf2/AAAAoLxZ8L8AAABgoEL5vwAAAOBM4fq/AAAAAMWt8r8AAACgrTPivwAAAIAqoOe/AAAAIM/B+L8AAADAdTXjvwAAAIBlyvq/AAAAQG8lA8AAAACg1MMAwAAAAEBxTv6/AAAAICdhA8AAAACgAWgBwAAAACBISQTAAAAAAPBMA8AAAAAAwR0FwAAAAKAATf6/AAAAYAykCMAAAADg3pwKwAAAAADSNQ3AAAAA4EDuA8AAAADgYswMwAAAAMCqbBHAAAAAgNaaDcAAAACgsy8MwAAAAMA3JxLAAAAAYLLgEcAAAADgR5MQwAAAAKC6FRTAAAAA4JFtE8AAAACAqn8RwAAAAGAlcBLAAAAAIFjoEsAAAABgaMwRwAAAAOAp8hLAAAAAoHvJEcAAAADAepMTwAAAAOBFeRTAAAAAoDEmFMAAAADgypAUwAAAACAezBPAAAAAoPX+E8AAAACAlvcSwA==",
          "dtype": "f8"
         },
         "yaxis": "y"
        },
        {
         "hovertemplate": "variable=Discriminator Loss<br>Epoch=%{x}<br>value=%{y}<extra></extra>",
         "legendgroup": "Discriminator Loss",
         "line": {
          "color": "#01E0C9",
          "dash": "solid"
         },
         "marker": {
          "symbol": "circle"
         },
         "mode": "lines",
         "name": "Discriminator Loss",
         "orientation": "v",
         "showlegend": true,
         "type": "scatter",
         "x": {
          "bdata": "AAECAwQFBgcICQoLDA0ODxAREhMUFRYXGBkaGxwdHh8gISIjJCUmJygpKissLS4vMDE=",
          "dtype": "i1"
         },
         "xaxis": "x",
         "y": {
          "bdata": "AAAAANiIvz8AAAAA0KOyPwAAAADtr9S/AAAAAK2s1z8AAABAbW7kvwAAAAD828S/AAAAAP1Ww78AAACAW+TQvwAAAADrkM+/AAAAAJC1vD8AAADgu/nmvwAAAADw78a/AAAAAEuYyD8AAAAA3MTXvwAAAACaFea/AAAAAClZ0D8AAACA0+vevwAAAADbJ9M/AAAAAO5bwT8AAABAEo7qvwAAAABiZuY/AAAAwJ+Q5L8AAAAARXrTPwAAAAD56dg/AAAAgDWs8D8AAAAAuGDSvwAAAAAQ6K6/AAAAgJxV4b8AAAAAVhfJvwAAAABAIs6/AAAAABjx2T8AAAAAIFCGvwAAAADIsr+/AAAAABylyT8AAAAAtBrEPwAAAACMsMI/AAAAAKAArT8AAAAAMI2/PwAAAABg5Lk/AAAAAJiHv78AAAAAcBLWPwAAAAAErMY/AAAAALhdzT8AAAAA4IS6vwAAAAD4Msk/AAAAAFqW3D8AAAAA1K7WvwAAAABckMA/AAAAAI700L8AAAAALDvcPw==",
          "dtype": "f8"
         },
         "yaxis": "y"
        }
       ],
       "layout": {
        "font": {
         "size": 18
        },
        "legend": {
         "orientation": "v",
         "title": {
          "text": ""
         },
         "tracegroupgap": 0
        },
        "margin": {
         "t": 60
        },
        "plot_bgcolor": "#F5F5F8",
        "template": {
         "data": {
          "bar": [
           {
            "error_x": {
             "color": "#2a3f5f"
            },
            "error_y": {
             "color": "#2a3f5f"
            },
            "marker": {
             "line": {
              "color": "white",
              "width": 0.5
             },
             "pattern": {
              "fillmode": "overlay",
              "size": 10,
              "solidity": 0.2
             }
            },
            "type": "bar"
           }
          ],
          "barpolar": [
           {
            "marker": {
             "line": {
              "color": "white",
              "width": 0.5
             },
             "pattern": {
              "fillmode": "overlay",
              "size": 10,
              "solidity": 0.2
             }
            },
            "type": "barpolar"
           }
          ],
          "carpet": [
           {
            "aaxis": {
             "endlinecolor": "#2a3f5f",
             "gridcolor": "#C8D4E3",
             "linecolor": "#C8D4E3",
             "minorgridcolor": "#C8D4E3",
             "startlinecolor": "#2a3f5f"
            },
            "baxis": {
             "endlinecolor": "#2a3f5f",
             "gridcolor": "#C8D4E3",
             "linecolor": "#C8D4E3",
             "minorgridcolor": "#C8D4E3",
             "startlinecolor": "#2a3f5f"
            },
            "type": "carpet"
           }
          ],
          "choropleth": [
           {
            "colorbar": {
             "outlinewidth": 0,
             "ticks": ""
            },
            "type": "choropleth"
           }
          ],
          "contour": [
           {
            "colorbar": {
             "outlinewidth": 0,
             "ticks": ""
            },
            "colorscale": [
             [
              0,
              "#0d0887"
             ],
             [
              0.1111111111111111,
              "#46039f"
             ],
             [
              0.2222222222222222,
              "#7201a8"
             ],
             [
              0.3333333333333333,
              "#9c179e"
             ],
             [
              0.4444444444444444,
              "#bd3786"
             ],
             [
              0.5555555555555556,
              "#d8576b"
             ],
             [
              0.6666666666666666,
              "#ed7953"
             ],
             [
              0.7777777777777778,
              "#fb9f3a"
             ],
             [
              0.8888888888888888,
              "#fdca26"
             ],
             [
              1,
              "#f0f921"
             ]
            ],
            "type": "contour"
           }
          ],
          "contourcarpet": [
           {
            "colorbar": {
             "outlinewidth": 0,
             "ticks": ""
            },
            "type": "contourcarpet"
           }
          ],
          "heatmap": [
           {
            "colorbar": {
             "outlinewidth": 0,
             "ticks": ""
            },
            "colorscale": [
             [
              0,
              "#0d0887"
             ],
             [
              0.1111111111111111,
              "#46039f"
             ],
             [
              0.2222222222222222,
              "#7201a8"
             ],
             [
              0.3333333333333333,
              "#9c179e"
             ],
             [
              0.4444444444444444,
              "#bd3786"
             ],
             [
              0.5555555555555556,
              "#d8576b"
             ],
             [
              0.6666666666666666,
              "#ed7953"
             ],
             [
              0.7777777777777778,
              "#fb9f3a"
             ],
             [
              0.8888888888888888,
              "#fdca26"
             ],
             [
              1,
              "#f0f921"
             ]
            ],
            "type": "heatmap"
           }
          ],
          "histogram": [
           {
            "marker": {
             "pattern": {
              "fillmode": "overlay",
              "size": 10,
              "solidity": 0.2
             }
            },
            "type": "histogram"
           }
          ],
          "histogram2d": [
           {
            "colorbar": {
             "outlinewidth": 0,
             "ticks": ""
            },
            "colorscale": [
             [
              0,
              "#0d0887"
             ],
             [
              0.1111111111111111,
              "#46039f"
             ],
             [
              0.2222222222222222,
              "#7201a8"
             ],
             [
              0.3333333333333333,
              "#9c179e"
             ],
             [
              0.4444444444444444,
              "#bd3786"
             ],
             [
              0.5555555555555556,
              "#d8576b"
             ],
             [
              0.6666666666666666,
              "#ed7953"
             ],
             [
              0.7777777777777778,
              "#fb9f3a"
             ],
             [
              0.8888888888888888,
              "#fdca26"
             ],
             [
              1,
              "#f0f921"
             ]
            ],
            "type": "histogram2d"
           }
          ],
          "histogram2dcontour": [
           {
            "colorbar": {
             "outlinewidth": 0,
             "ticks": ""
            },
            "colorscale": [
             [
              0,
              "#0d0887"
             ],
             [
              0.1111111111111111,
              "#46039f"
             ],
             [
              0.2222222222222222,
              "#7201a8"
             ],
             [
              0.3333333333333333,
              "#9c179e"
             ],
             [
              0.4444444444444444,
              "#bd3786"
             ],
             [
              0.5555555555555556,
              "#d8576b"
             ],
             [
              0.6666666666666666,
              "#ed7953"
             ],
             [
              0.7777777777777778,
              "#fb9f3a"
             ],
             [
              0.8888888888888888,
              "#fdca26"
             ],
             [
              1,
              "#f0f921"
             ]
            ],
            "type": "histogram2dcontour"
           }
          ],
          "mesh3d": [
           {
            "colorbar": {
             "outlinewidth": 0,
             "ticks": ""
            },
            "type": "mesh3d"
           }
          ],
          "parcoords": [
           {
            "line": {
             "colorbar": {
              "outlinewidth": 0,
              "ticks": ""
             }
            },
            "type": "parcoords"
           }
          ],
          "pie": [
           {
            "automargin": true,
            "type": "pie"
           }
          ],
          "scatter": [
           {
            "fillpattern": {
             "fillmode": "overlay",
             "size": 10,
             "solidity": 0.2
            },
            "type": "scatter"
           }
          ],
          "scatter3d": [
           {
            "line": {
             "colorbar": {
              "outlinewidth": 0,
              "ticks": ""
             }
            },
            "marker": {
             "colorbar": {
              "outlinewidth": 0,
              "ticks": ""
             }
            },
            "type": "scatter3d"
           }
          ],
          "scattercarpet": [
           {
            "marker": {
             "colorbar": {
              "outlinewidth": 0,
              "ticks": ""
             }
            },
            "type": "scattercarpet"
           }
          ],
          "scattergeo": [
           {
            "marker": {
             "colorbar": {
              "outlinewidth": 0,
              "ticks": ""
             }
            },
            "type": "scattergeo"
           }
          ],
          "scattergl": [
           {
            "marker": {
             "colorbar": {
              "outlinewidth": 0,
              "ticks": ""
             }
            },
            "type": "scattergl"
           }
          ],
          "scattermap": [
           {
            "marker": {
             "colorbar": {
              "outlinewidth": 0,
              "ticks": ""
             }
            },
            "type": "scattermap"
           }
          ],
          "scattermapbox": [
           {
            "marker": {
             "colorbar": {
              "outlinewidth": 0,
              "ticks": ""
             }
            },
            "type": "scattermapbox"
           }
          ],
          "scatterpolar": [
           {
            "marker": {
             "colorbar": {
              "outlinewidth": 0,
              "ticks": ""
             }
            },
            "type": "scatterpolar"
           }
          ],
          "scatterpolargl": [
           {
            "marker": {
             "colorbar": {
              "outlinewidth": 0,
              "ticks": ""
             }
            },
            "type": "scatterpolargl"
           }
          ],
          "scatterternary": [
           {
            "marker": {
             "colorbar": {
              "outlinewidth": 0,
              "ticks": ""
             }
            },
            "type": "scatterternary"
           }
          ],
          "surface": [
           {
            "colorbar": {
             "outlinewidth": 0,
             "ticks": ""
            },
            "colorscale": [
             [
              0,
              "#0d0887"
             ],
             [
              0.1111111111111111,
              "#46039f"
             ],
             [
              0.2222222222222222,
              "#7201a8"
             ],
             [
              0.3333333333333333,
              "#9c179e"
             ],
             [
              0.4444444444444444,
              "#bd3786"
             ],
             [
              0.5555555555555556,
              "#d8576b"
             ],
             [
              0.6666666666666666,
              "#ed7953"
             ],
             [
              0.7777777777777778,
              "#fb9f3a"
             ],
             [
              0.8888888888888888,
              "#fdca26"
             ],
             [
              1,
              "#f0f921"
             ]
            ],
            "type": "surface"
           }
          ],
          "table": [
           {
            "cells": {
             "fill": {
              "color": "#EBF0F8"
             },
             "line": {
              "color": "white"
             }
            },
            "header": {
             "fill": {
              "color": "#C8D4E3"
             },
             "line": {
              "color": "white"
             }
            },
            "type": "table"
           }
          ]
         },
         "layout": {
          "annotationdefaults": {
           "arrowcolor": "#2a3f5f",
           "arrowhead": 0,
           "arrowwidth": 1
          },
          "autotypenumbers": "strict",
          "coloraxis": {
           "colorbar": {
            "outlinewidth": 0,
            "ticks": ""
           }
          },
          "colorscale": {
           "diverging": [
            [
             0,
             "#8e0152"
            ],
            [
             0.1,
             "#c51b7d"
            ],
            [
             0.2,
             "#de77ae"
            ],
            [
             0.3,
             "#f1b6da"
            ],
            [
             0.4,
             "#fde0ef"
            ],
            [
             0.5,
             "#f7f7f7"
            ],
            [
             0.6,
             "#e6f5d0"
            ],
            [
             0.7,
             "#b8e186"
            ],
            [
             0.8,
             "#7fbc41"
            ],
            [
             0.9,
             "#4d9221"
            ],
            [
             1,
             "#276419"
            ]
           ],
           "sequential": [
            [
             0,
             "#0d0887"
            ],
            [
             0.1111111111111111,
             "#46039f"
            ],
            [
             0.2222222222222222,
             "#7201a8"
            ],
            [
             0.3333333333333333,
             "#9c179e"
            ],
            [
             0.4444444444444444,
             "#bd3786"
            ],
            [
             0.5555555555555556,
             "#d8576b"
            ],
            [
             0.6666666666666666,
             "#ed7953"
            ],
            [
             0.7777777777777778,
             "#fb9f3a"
            ],
            [
             0.8888888888888888,
             "#fdca26"
            ],
            [
             1,
             "#f0f921"
            ]
           ],
           "sequentialminus": [
            [
             0,
             "#0d0887"
            ],
            [
             0.1111111111111111,
             "#46039f"
            ],
            [
             0.2222222222222222,
             "#7201a8"
            ],
            [
             0.3333333333333333,
             "#9c179e"
            ],
            [
             0.4444444444444444,
             "#bd3786"
            ],
            [
             0.5555555555555556,
             "#d8576b"
            ],
            [
             0.6666666666666666,
             "#ed7953"
            ],
            [
             0.7777777777777778,
             "#fb9f3a"
            ],
            [
             0.8888888888888888,
             "#fdca26"
            ],
            [
             1,
             "#f0f921"
            ]
           ]
          },
          "colorway": [
           "#636efa",
           "#EF553B",
           "#00cc96",
           "#ab63fa",
           "#FFA15A",
           "#19d3f3",
           "#FF6692",
           "#B6E880",
           "#FF97FF",
           "#FECB52"
          ],
          "font": {
           "color": "#2a3f5f"
          },
          "geo": {
           "bgcolor": "white",
           "lakecolor": "white",
           "landcolor": "white",
           "showlakes": true,
           "showland": true,
           "subunitcolor": "#C8D4E3"
          },
          "hoverlabel": {
           "align": "left"
          },
          "hovermode": "closest",
          "mapbox": {
           "style": "light"
          },
          "paper_bgcolor": "white",
          "plot_bgcolor": "white",
          "polar": {
           "angularaxis": {
            "gridcolor": "#EBF0F8",
            "linecolor": "#EBF0F8",
            "ticks": ""
           },
           "bgcolor": "white",
           "radialaxis": {
            "gridcolor": "#EBF0F8",
            "linecolor": "#EBF0F8",
            "ticks": ""
           }
          },
          "scene": {
           "xaxis": {
            "backgroundcolor": "white",
            "gridcolor": "#DFE8F3",
            "gridwidth": 2,
            "linecolor": "#EBF0F8",
            "showbackground": true,
            "ticks": "",
            "zerolinecolor": "#EBF0F8"
           },
           "yaxis": {
            "backgroundcolor": "white",
            "gridcolor": "#DFE8F3",
            "gridwidth": 2,
            "linecolor": "#EBF0F8",
            "showbackground": true,
            "ticks": "",
            "zerolinecolor": "#EBF0F8"
           },
           "zaxis": {
            "backgroundcolor": "white",
            "gridcolor": "#DFE8F3",
            "gridwidth": 2,
            "linecolor": "#EBF0F8",
            "showbackground": true,
            "ticks": "",
            "zerolinecolor": "#EBF0F8"
           }
          },
          "shapedefaults": {
           "line": {
            "color": "#2a3f5f"
           }
          },
          "ternary": {
           "aaxis": {
            "gridcolor": "#DFE8F3",
            "linecolor": "#A2B1C6",
            "ticks": ""
           },
           "baxis": {
            "gridcolor": "#DFE8F3",
            "linecolor": "#A2B1C6",
            "ticks": ""
           },
           "bgcolor": "white",
           "caxis": {
            "gridcolor": "#DFE8F3",
            "linecolor": "#A2B1C6",
            "ticks": ""
           }
          },
          "title": {
           "x": 0.05
          },
          "xaxis": {
           "automargin": true,
           "gridcolor": "#EBF0F8",
           "linecolor": "#EBF0F8",
           "ticks": "",
           "title": {
            "standoff": 15
           },
           "zerolinecolor": "#EBF0F8",
           "zerolinewidth": 2
          },
          "yaxis": {
           "automargin": true,
           "gridcolor": "#EBF0F8",
           "linecolor": "#EBF0F8",
           "ticks": "",
           "title": {
            "standoff": 15
           },
           "zerolinecolor": "#EBF0F8",
           "zerolinewidth": 2
          }
         }
        },
        "title": {
         "text": "CTGAN loss function"
        },
        "xaxis": {
         "anchor": "y",
         "domain": [
          0,
          1
         ],
         "title": {
          "text": "Epoch"
         }
        },
        "yaxis": {
         "anchor": "x",
         "domain": [
          0,
          1
         ],
         "title": {
          "text": "Loss"
         }
        }
       }
      }
     },
     "metadata": {},
     "output_type": "display_data"
    }
   ],
   "source": [
    "fig = synthesizer.get_loss_values_plot()\n",
    "fig.show()"
   ]
  },
  {
   "cell_type": "code",
   "execution_count": null,
   "metadata": {},
   "outputs": [
    {
     "data": {
      "text/html": [
       "<div>\n",
       "<style scoped>\n",
       "    .dataframe tbody tr th:only-of-type {\n",
       "        vertical-align: middle;\n",
       "    }\n",
       "\n",
       "    .dataframe tbody tr th {\n",
       "        vertical-align: top;\n",
       "    }\n",
       "\n",
       "    .dataframe thead th {\n",
       "        text-align: right;\n",
       "    }\n",
       "</style>\n",
       "<table border=\"1\" class=\"dataframe\">\n",
       "  <thead>\n",
       "    <tr style=\"text-align: right;\">\n",
       "      <th></th>\n",
       "      <th>fyear</th>\n",
       "      <th>gvkey</th>\n",
       "      <th>p_aaer</th>\n",
       "      <th>misstate</th>\n",
       "      <th>act</th>\n",
       "      <th>ap</th>\n",
       "      <th>at</th>\n",
       "      <th>ceq</th>\n",
       "      <th>che</th>\n",
       "      <th>cogs</th>\n",
       "      <th>...</th>\n",
       "      <th>soft_assets</th>\n",
       "      <th>ch_cs</th>\n",
       "      <th>ch_cm</th>\n",
       "      <th>ch_roa</th>\n",
       "      <th>issue</th>\n",
       "      <th>bm</th>\n",
       "      <th>dpi</th>\n",
       "      <th>reoa</th>\n",
       "      <th>EBIT</th>\n",
       "      <th>ch_fcf</th>\n",
       "    </tr>\n",
       "  </thead>\n",
       "  <tbody>\n",
       "    <tr>\n",
       "      <th>0</th>\n",
       "      <td>1998</td>\n",
       "      <td>10307</td>\n",
       "      <td>NaN</td>\n",
       "      <td>0</td>\n",
       "      <td>136.348</td>\n",
       "      <td>110.004</td>\n",
       "      <td>2305.716289</td>\n",
       "      <td>234.232942</td>\n",
       "      <td>13.536</td>\n",
       "      <td>918.843019</td>\n",
       "      <td>...</td>\n",
       "      <td>0.413658</td>\n",
       "      <td>0.068119</td>\n",
       "      <td>0.208452</td>\n",
       "      <td>0.004964</td>\n",
       "      <td>1</td>\n",
       "      <td>0.022651</td>\n",
       "      <td>0.971395</td>\n",
       "      <td>0.236389</td>\n",
       "      <td>-0.141678</td>\n",
       "      <td>-0.097237</td>\n",
       "    </tr>\n",
       "    <tr>\n",
       "      <th>1</th>\n",
       "      <td>1993</td>\n",
       "      <td>65658</td>\n",
       "      <td>NaN</td>\n",
       "      <td>0</td>\n",
       "      <td>16.058</td>\n",
       "      <td>0.000</td>\n",
       "      <td>0.000000</td>\n",
       "      <td>15.099534</td>\n",
       "      <td>-2.975</td>\n",
       "      <td>-26.638370</td>\n",
       "      <td>...</td>\n",
       "      <td>0.826494</td>\n",
       "      <td>0.194012</td>\n",
       "      <td>-0.057994</td>\n",
       "      <td>-0.024358</td>\n",
       "      <td>0</td>\n",
       "      <td>0.080464</td>\n",
       "      <td>0.898441</td>\n",
       "      <td>0.190262</td>\n",
       "      <td>0.043770</td>\n",
       "      <td>-0.233604</td>\n",
       "    </tr>\n",
       "    <tr>\n",
       "      <th>2</th>\n",
       "      <td>1997</td>\n",
       "      <td>118551</td>\n",
       "      <td>NaN</td>\n",
       "      <td>0</td>\n",
       "      <td>516.231</td>\n",
       "      <td>173.726</td>\n",
       "      <td>1890.893924</td>\n",
       "      <td>857.602869</td>\n",
       "      <td>77.637</td>\n",
       "      <td>812.444580</td>\n",
       "      <td>...</td>\n",
       "      <td>0.735262</td>\n",
       "      <td>-0.295389</td>\n",
       "      <td>-0.360005</td>\n",
       "      <td>-0.008562</td>\n",
       "      <td>1</td>\n",
       "      <td>0.788645</td>\n",
       "      <td>0.963809</td>\n",
       "      <td>0.183037</td>\n",
       "      <td>0.074777</td>\n",
       "      <td>-0.189465</td>\n",
       "    </tr>\n",
       "    <tr>\n",
       "      <th>3</th>\n",
       "      <td>1992</td>\n",
       "      <td>65379</td>\n",
       "      <td>NaN</td>\n",
       "      <td>0</td>\n",
       "      <td>23.738</td>\n",
       "      <td>8.832</td>\n",
       "      <td>354.735326</td>\n",
       "      <td>37.529846</td>\n",
       "      <td>15.631</td>\n",
       "      <td>64.566048</td>\n",
       "      <td>...</td>\n",
       "      <td>0.639528</td>\n",
       "      <td>-0.131155</td>\n",
       "      <td>0.268013</td>\n",
       "      <td>0.006599</td>\n",
       "      <td>1</td>\n",
       "      <td>1.335585</td>\n",
       "      <td>0.866058</td>\n",
       "      <td>0.469045</td>\n",
       "      <td>0.076524</td>\n",
       "      <td>-0.144741</td>\n",
       "    </tr>\n",
       "    <tr>\n",
       "      <th>4</th>\n",
       "      <td>2006</td>\n",
       "      <td>29655</td>\n",
       "      <td>NaN</td>\n",
       "      <td>1</td>\n",
       "      <td>1117.541</td>\n",
       "      <td>133.383</td>\n",
       "      <td>9389.140233</td>\n",
       "      <td>4227.843468</td>\n",
       "      <td>403.553</td>\n",
       "      <td>9230.104170</td>\n",
       "      <td>...</td>\n",
       "      <td>0.317291</td>\n",
       "      <td>0.057799</td>\n",
       "      <td>0.033194</td>\n",
       "      <td>0.007873</td>\n",
       "      <td>1</td>\n",
       "      <td>0.315679</td>\n",
       "      <td>0.858352</td>\n",
       "      <td>0.045352</td>\n",
       "      <td>-0.184835</td>\n",
       "      <td>-0.042521</td>\n",
       "    </tr>\n",
       "  </tbody>\n",
       "</table>\n",
       "<p>5 rows × 46 columns</p>\n",
       "</div>"
      ],
      "text/plain": [
       "   fyear   gvkey  p_aaer  misstate       act       ap           at  \\\n",
       "0   1998   10307     NaN         0   136.348  110.004  2305.716289   \n",
       "1   1993   65658     NaN         0    16.058    0.000     0.000000   \n",
       "2   1997  118551     NaN         0   516.231  173.726  1890.893924   \n",
       "3   1992   65379     NaN         0    23.738    8.832   354.735326   \n",
       "4   2006   29655     NaN         1  1117.541  133.383  9389.140233   \n",
       "\n",
       "           ceq      che         cogs  ...  soft_assets     ch_cs     ch_cm  \\\n",
       "0   234.232942   13.536   918.843019  ...     0.413658  0.068119  0.208452   \n",
       "1    15.099534   -2.975   -26.638370  ...     0.826494  0.194012 -0.057994   \n",
       "2   857.602869   77.637   812.444580  ...     0.735262 -0.295389 -0.360005   \n",
       "3    37.529846   15.631    64.566048  ...     0.639528 -0.131155  0.268013   \n",
       "4  4227.843468  403.553  9230.104170  ...     0.317291  0.057799  0.033194   \n",
       "\n",
       "     ch_roa  issue        bm       dpi      reoa      EBIT    ch_fcf  \n",
       "0  0.004964      1  0.022651  0.971395  0.236389 -0.141678 -0.097237  \n",
       "1 -0.024358      0  0.080464  0.898441  0.190262  0.043770 -0.233604  \n",
       "2 -0.008562      1  0.788645  0.963809  0.183037  0.074777 -0.189465  \n",
       "3  0.006599      1  1.335585  0.866058  0.469045  0.076524 -0.144741  \n",
       "4  0.007873      1  0.315679  0.858352  0.045352 -0.184835 -0.042521  \n",
       "\n",
       "[5 rows x 46 columns]"
      ]
     },
     "execution_count": 12,
     "metadata": {},
     "output_type": "execute_result"
    }
   ],
   "source": [
    "synthetic_data = synthesizer.sample(num_rows=140638)\n",
    "synthetic_data.head()"
   ]
  },
  {
   "cell_type": "code",
   "execution_count": 13,
   "metadata": {},
   "outputs": [
    {
     "name": "stdout",
     "output_type": "stream",
     "text": [
      "Count of misstate = 1: 26078\n",
      "Count of misstate = 0: 114560\n"
     ]
    }
   ],
   "source": [
    "print(\"Count of misstate = 1:\", (synthetic_data['misstate'] == 1).sum())\n",
    "print(\"Count of misstate = 0:\", (synthetic_data['misstate'] == 0).sum())"
   ]
  },
  {
   "cell_type": "code",
   "execution_count": 14,
   "metadata": {},
   "outputs": [
    {
     "name": "stdout",
     "output_type": "stream",
     "text": [
      "        fyear  gvkey  p_aaer  misstate       act       ap           at  \\\n",
      "0        1990   1009     NaN         0    10.047    3.736    32.335000   \n",
      "1        1990   1011     NaN         0     1.247    0.803     7.784000   \n",
      "2        1990   1017     NaN         0    55.040    3.601   118.120000   \n",
      "3        1990   1021     NaN         0    24.684    3.948    34.591000   \n",
      "4        1990   1028     NaN         0    17.325    3.520    27.542000   \n",
      "...       ...    ...     ...       ...       ...      ...          ...   \n",
      "286678   1993  64864     NaN         0   143.448  111.464  1249.458437   \n",
      "286679   2013  31777     NaN         0  1658.933   89.763  4401.120219   \n",
      "286680   1998   7005     NaN         0    55.389    0.000    34.744685   \n",
      "286681   1996  13508     NaN         0   226.616    0.753    11.679503   \n",
      "286682   1992  30934     NaN         0    16.007    0.000     0.000000   \n",
      "\n",
      "               ceq     che         cogs  ...  soft_assets     ch_cs     ch_cm  \\\n",
      "0         6.262000   0.002    30.633000  ...     0.312448  0.095082  0.082631   \n",
      "1         0.667000   0.171     1.125000  ...     0.315904  0.188832 -0.211389   \n",
      "2        44.393000   3.132   107.343000  ...     0.605342  0.097551 -0.105780   \n",
      "3         7.751000   0.411    31.214000  ...     0.793068 -0.005725 -0.249704   \n",
      "4       -12.142000   1.017    32.662000  ...     0.869182 -0.231536 -1.674893   \n",
      "...            ...     ...          ...  ...          ...       ...       ...   \n",
      "286678  558.154953   6.811  1294.441444  ...     0.486480 -0.172073  0.011949   \n",
      "286679  624.906956  15.452   583.360757  ...     0.778775 -0.196922  0.075676   \n",
      "286680   51.888893   9.698   -46.401960  ...     0.471405  0.142398  0.615353   \n",
      "286681   -6.822073  -1.483    31.721809  ...     0.410773  0.051738  0.022333   \n",
      "286682   -8.937427   4.126    12.314722  ...     0.014557  0.181205 -0.045960   \n",
      "\n",
      "          ch_roa  issue        bm       dpi       reoa      EBIT    ch_fcf  \n",
      "0      -0.019761      1  0.413170  0.873555   0.167620  0.161961 -0.042140  \n",
      "1      -0.117832      1  0.157887  0.745139  -0.428957 -0.157888  0.100228  \n",
      "2       0.091206      1  2.231337  1.015131   0.394768  0.063681  0.066348  \n",
      "3       0.017545      1  1.043582  1.026261   0.094822  0.088347 -0.017358  \n",
      "4      -0.466667      0 -1.602508  0.598443  -0.942379 -0.700821  0.130349  \n",
      "...          ...    ...       ...       ...        ...       ...       ...  \n",
      "286678  0.003083      1  0.493186  0.943142   0.477072  0.043356 -0.026357  \n",
      "286679 -0.003858      1  0.586537  0.897363  -0.079539  0.014855  0.103831  \n",
      "286680  0.239626      0  1.299857  0.845055   0.246138 -0.123011 -0.228450  \n",
      "286681 -0.194330      1  0.790469       NaN  -1.199228  0.017760  0.225244  \n",
      "286682  1.610377      0  1.416055  1.019963 -24.601772  0.043551 -0.111565  \n",
      "\n",
      "[286683 rows x 46 columns]\n"
     ]
    }
   ],
   "source": [
    "import pandas as pd\n",
    "\n",
    "# Sample DataFrames\n",
    "df1 = data\n",
    "df2 = synthetic_data\n",
    "\n",
    "# Merge (concatenate rows)\n",
    "df_merged = pd.concat([df1, df2], ignore_index=True)\n",
    "\n",
    "print(df_merged)\n"
   ]
  },
  {
   "cell_type": "code",
   "execution_count": 15,
   "metadata": {},
   "outputs": [
    {
     "name": "stdout",
     "output_type": "stream",
     "text": [
      "Count of misstate = 1: 27042\n",
      "Count of misstate = 0: 259641\n"
     ]
    }
   ],
   "source": [
    "print(\"Count of misstate = 1:\", (df_merged['misstate'] == 1).sum())\n",
    "print(\"Count of misstate = 0:\", (df_merged['misstate'] == 0).sum())"
   ]
  },
  {
   "cell_type": "code",
   "execution_count": 16,
   "metadata": {},
   "outputs": [],
   "source": [
    "df_merged.to_csv(\"data_FraudDetection_GAN.csv\", index=False)"
   ]
  },
  {
   "cell_type": "code",
   "execution_count": 115,
   "metadata": {},
   "outputs": [
    {
     "name": "stderr",
     "output_type": "stream",
     "text": [
      "c:\\Python311\\Lib\\site-packages\\sdv\\single_table\\base.py:119: FutureWarning:\n",
      "\n",
      "The 'SingleTableMetadata' is deprecated. Please use the new 'Metadata' class for synthesizers.\n",
      "\n",
      "Gen. (-2.79) | Discrim. (0.33): 100%|██████████| 25/25 [22:10<00:00, 53.22s/it] \n"
     ]
    }
   ],
   "source": [
    "from sdv.single_table import CTGANSynthesizer\n",
    "\n",
    "synthesizer2 = CTGANSynthesizer(metadata,verbose=True,epochs=25)\n",
    "synthesizer2.fit(data)"
   ]
  },
  {
   "cell_type": "code",
   "execution_count": 88,
   "metadata": {},
   "outputs": [
    {
     "data": {
      "application/vnd.plotly.v1+json": {
       "config": {
        "plotlyServerURL": "https://plot.ly"
       },
       "data": [
        {
         "hovertemplate": "variable=Generator Loss<br>Epoch=%{x}<br>value=%{y}<extra></extra>",
         "legendgroup": "Generator Loss",
         "line": {
          "color": "#000036",
          "dash": "solid"
         },
         "marker": {
          "symbol": "circle"
         },
         "mode": "lines",
         "name": "Generator Loss",
         "orientation": "v",
         "showlegend": true,
         "type": "scatter",
         "x": {
          "bdata": "AAABAAIAAwAEAAUABgAHAAgACQAKAAsADAANAA4ADwAQABEAEgATABQAFQAWABcAGAAZABoAGwAcAB0AHgAfACAAIQAiACMAJAAlACYAJwAoACkAKgArACwALQAuAC8AMAAxADIAMwA0ADUANgA3ADgAOQA6ADsAPAA9AD4APwBAAEEAQgBDAEQARQBGAEcASABJAEoASwBMAE0ATgBPAFAAUQBSAFMAVABVAFYAVwBYAFkAWgBbAFwAXQBeAF8AYABhAGIAYwBkAGUAZgBnAGgAaQBqAGsAbABtAG4AbwBwAHEAcgBzAHQAdQB2AHcAeAB5AHoAewB8AH0AfgB/AIAAgQCCAIMAhACFAIYAhwCIAIkAigCLAIwAjQCOAI8AkACRAJIAkwCUAJUAlgCXAJgAmQCaAJsAnACdAJ4AnwCgAKEAogCjAKQApQCmAKcAqACpAKoAqwCsAK0ArgCvALAAsQCyALMAtAC1ALYAtwC4ALkAugC7ALwAvQC+AL8AwADBAMIAwwDEAMUAxgDHAA==",
          "dtype": "i2"
         },
         "xaxis": "x",
         "y": {
          "bdata": "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",
          "dtype": "f8"
         },
         "yaxis": "y"
        },
        {
         "hovertemplate": "variable=Discriminator Loss<br>Epoch=%{x}<br>value=%{y}<extra></extra>",
         "legendgroup": "Discriminator Loss",
         "line": {
          "color": "#01E0C9",
          "dash": "solid"
         },
         "marker": {
          "symbol": "circle"
         },
         "mode": "lines",
         "name": "Discriminator Loss",
         "orientation": "v",
         "showlegend": true,
         "type": "scatter",
         "x": {
          "bdata": "AAABAAIAAwAEAAUABgAHAAgACQAKAAsADAANAA4ADwAQABEAEgATABQAFQAWABcAGAAZABoAGwAcAB0AHgAfACAAIQAiACMAJAAlACYAJwAoACkAKgArACwALQAuAC8AMAAxADIAMwA0ADUANgA3ADgAOQA6ADsAPAA9AD4APwBAAEEAQgBDAEQARQBGAEcASABJAEoASwBMAE0ATgBPAFAAUQBSAFMAVABVAFYAVwBYAFkAWgBbAFwAXQBeAF8AYABhAGIAYwBkAGUAZgBnAGgAaQBqAGsAbABtAG4AbwBwAHEAcgBzAHQAdQB2AHcAeAB5AHoAewB8AH0AfgB/AIAAgQCCAIMAhACFAIYAhwCIAIkAigCLAIwAjQCOAI8AkACRAJIAkwCUAJUAlgCXAJgAmQCaAJsAnACdAJ4AnwCgAKEAogCjAKQApQCmAKcAqACpAKoAqwCsAK0ArgCvALAAsQCyALMAtAC1ALYAtwC4ALkAugC7ALwAvQC+AL8AwADBAMIAwwDEAMUAxgDHAA==",
          "dtype": "i2"
         },
         "xaxis": "x",
         "y": {
          "bdata": "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",
          "dtype": "f8"
         },
         "yaxis": "y"
        }
       ],
       "layout": {
        "font": {
         "size": 18
        },
        "legend": {
         "orientation": "v",
         "title": {
          "text": ""
         },
         "tracegroupgap": 0
        },
        "margin": {
         "t": 60
        },
        "plot_bgcolor": "#F5F5F8",
        "template": {
         "data": {
          "bar": [
           {
            "error_x": {
             "color": "#2a3f5f"
            },
            "error_y": {
             "color": "#2a3f5f"
            },
            "marker": {
             "line": {
              "color": "white",
              "width": 0.5
             },
             "pattern": {
              "fillmode": "overlay",
              "size": 10,
              "solidity": 0.2
             }
            },
            "type": "bar"
           }
          ],
          "barpolar": [
           {
            "marker": {
             "line": {
              "color": "white",
              "width": 0.5
             },
             "pattern": {
              "fillmode": "overlay",
              "size": 10,
              "solidity": 0.2
             }
            },
            "type": "barpolar"
           }
          ],
          "carpet": [
           {
            "aaxis": {
             "endlinecolor": "#2a3f5f",
             "gridcolor": "#C8D4E3",
             "linecolor": "#C8D4E3",
             "minorgridcolor": "#C8D4E3",
             "startlinecolor": "#2a3f5f"
            },
            "baxis": {
             "endlinecolor": "#2a3f5f",
             "gridcolor": "#C8D4E3",
             "linecolor": "#C8D4E3",
             "minorgridcolor": "#C8D4E3",
             "startlinecolor": "#2a3f5f"
            },
            "type": "carpet"
           }
          ],
          "choropleth": [
           {
            "colorbar": {
             "outlinewidth": 0,
             "ticks": ""
            },
            "type": "choropleth"
           }
          ],
          "contour": [
           {
            "colorbar": {
             "outlinewidth": 0,
             "ticks": ""
            },
            "colorscale": [
             [
              0,
              "#0d0887"
             ],
             [
              0.1111111111111111,
              "#46039f"
             ],
             [
              0.2222222222222222,
              "#7201a8"
             ],
             [
              0.3333333333333333,
              "#9c179e"
             ],
             [
              0.4444444444444444,
              "#bd3786"
             ],
             [
              0.5555555555555556,
              "#d8576b"
             ],
             [
              0.6666666666666666,
              "#ed7953"
             ],
             [
              0.7777777777777778,
              "#fb9f3a"
             ],
             [
              0.8888888888888888,
              "#fdca26"
             ],
             [
              1,
              "#f0f921"
             ]
            ],
            "type": "contour"
           }
          ],
          "contourcarpet": [
           {
            "colorbar": {
             "outlinewidth": 0,
             "ticks": ""
            },
            "type": "contourcarpet"
           }
          ],
          "heatmap": [
           {
            "colorbar": {
             "outlinewidth": 0,
             "ticks": ""
            },
            "colorscale": [
             [
              0,
              "#0d0887"
             ],
             [
              0.1111111111111111,
              "#46039f"
             ],
             [
              0.2222222222222222,
              "#7201a8"
             ],
             [
              0.3333333333333333,
              "#9c179e"
             ],
             [
              0.4444444444444444,
              "#bd3786"
             ],
             [
              0.5555555555555556,
              "#d8576b"
             ],
             [
              0.6666666666666666,
              "#ed7953"
             ],
             [
              0.7777777777777778,
              "#fb9f3a"
             ],
             [
              0.8888888888888888,
              "#fdca26"
             ],
             [
              1,
              "#f0f921"
             ]
            ],
            "type": "heatmap"
           }
          ],
          "histogram": [
           {
            "marker": {
             "pattern": {
              "fillmode": "overlay",
              "size": 10,
              "solidity": 0.2
             }
            },
            "type": "histogram"
           }
          ],
          "histogram2d": [
           {
            "colorbar": {
             "outlinewidth": 0,
             "ticks": ""
            },
            "colorscale": [
             [
              0,
              "#0d0887"
             ],
             [
              0.1111111111111111,
              "#46039f"
             ],
             [
              0.2222222222222222,
              "#7201a8"
             ],
             [
              0.3333333333333333,
              "#9c179e"
             ],
             [
              0.4444444444444444,
              "#bd3786"
             ],
             [
              0.5555555555555556,
              "#d8576b"
             ],
             [
              0.6666666666666666,
              "#ed7953"
             ],
             [
              0.7777777777777778,
              "#fb9f3a"
             ],
             [
              0.8888888888888888,
              "#fdca26"
             ],
             [
              1,
              "#f0f921"
             ]
            ],
            "type": "histogram2d"
           }
          ],
          "histogram2dcontour": [
           {
            "colorbar": {
             "outlinewidth": 0,
             "ticks": ""
            },
            "colorscale": [
             [
              0,
              "#0d0887"
             ],
             [
              0.1111111111111111,
              "#46039f"
             ],
             [
              0.2222222222222222,
              "#7201a8"
             ],
             [
              0.3333333333333333,
              "#9c179e"
             ],
             [
              0.4444444444444444,
              "#bd3786"
             ],
             [
              0.5555555555555556,
              "#d8576b"
             ],
             [
              0.6666666666666666,
              "#ed7953"
             ],
             [
              0.7777777777777778,
              "#fb9f3a"
             ],
             [
              0.8888888888888888,
              "#fdca26"
             ],
             [
              1,
              "#f0f921"
             ]
            ],
            "type": "histogram2dcontour"
           }
          ],
          "mesh3d": [
           {
            "colorbar": {
             "outlinewidth": 0,
             "ticks": ""
            },
            "type": "mesh3d"
           }
          ],
          "parcoords": [
           {
            "line": {
             "colorbar": {
              "outlinewidth": 0,
              "ticks": ""
             }
            },
            "type": "parcoords"
           }
          ],
          "pie": [
           {
            "automargin": true,
            "type": "pie"
           }
          ],
          "scatter": [
           {
            "fillpattern": {
             "fillmode": "overlay",
             "size": 10,
             "solidity": 0.2
            },
            "type": "scatter"
           }
          ],
          "scatter3d": [
           {
            "line": {
             "colorbar": {
              "outlinewidth": 0,
              "ticks": ""
             }
            },
            "marker": {
             "colorbar": {
              "outlinewidth": 0,
              "ticks": ""
             }
            },
            "type": "scatter3d"
           }
          ],
          "scattercarpet": [
           {
            "marker": {
             "colorbar": {
              "outlinewidth": 0,
              "ticks": ""
             }
            },
            "type": "scattercarpet"
           }
          ],
          "scattergeo": [
           {
            "marker": {
             "colorbar": {
              "outlinewidth": 0,
              "ticks": ""
             }
            },
            "type": "scattergeo"
           }
          ],
          "scattergl": [
           {
            "marker": {
             "colorbar": {
              "outlinewidth": 0,
              "ticks": ""
             }
            },
            "type": "scattergl"
           }
          ],
          "scattermap": [
           {
            "marker": {
             "colorbar": {
              "outlinewidth": 0,
              "ticks": ""
             }
            },
            "type": "scattermap"
           }
          ],
          "scattermapbox": [
           {
            "marker": {
             "colorbar": {
              "outlinewidth": 0,
              "ticks": ""
             }
            },
            "type": "scattermapbox"
           }
          ],
          "scatterpolar": [
           {
            "marker": {
             "colorbar": {
              "outlinewidth": 0,
              "ticks": ""
             }
            },
            "type": "scatterpolar"
           }
          ],
          "scatterpolargl": [
           {
            "marker": {
             "colorbar": {
              "outlinewidth": 0,
              "ticks": ""
             }
            },
            "type": "scatterpolargl"
           }
          ],
          "scatterternary": [
           {
            "marker": {
             "colorbar": {
              "outlinewidth": 0,
              "ticks": ""
             }
            },
            "type": "scatterternary"
           }
          ],
          "surface": [
           {
            "colorbar": {
             "outlinewidth": 0,
             "ticks": ""
            },
            "colorscale": [
             [
              0,
              "#0d0887"
             ],
             [
              0.1111111111111111,
              "#46039f"
             ],
             [
              0.2222222222222222,
              "#7201a8"
             ],
             [
              0.3333333333333333,
              "#9c179e"
             ],
             [
              0.4444444444444444,
              "#bd3786"
             ],
             [
              0.5555555555555556,
              "#d8576b"
             ],
             [
              0.6666666666666666,
              "#ed7953"
             ],
             [
              0.7777777777777778,
              "#fb9f3a"
             ],
             [
              0.8888888888888888,
              "#fdca26"
             ],
             [
              1,
              "#f0f921"
             ]
            ],
            "type": "surface"
           }
          ],
          "table": [
           {
            "cells": {
             "fill": {
              "color": "#EBF0F8"
             },
             "line": {
              "color": "white"
             }
            },
            "header": {
             "fill": {
              "color": "#C8D4E3"
             },
             "line": {
              "color": "white"
             }
            },
            "type": "table"
           }
          ]
         },
         "layout": {
          "annotationdefaults": {
           "arrowcolor": "#2a3f5f",
           "arrowhead": 0,
           "arrowwidth": 1
          },
          "autotypenumbers": "strict",
          "coloraxis": {
           "colorbar": {
            "outlinewidth": 0,
            "ticks": ""
           }
          },
          "colorscale": {
           "diverging": [
            [
             0,
             "#8e0152"
            ],
            [
             0.1,
             "#c51b7d"
            ],
            [
             0.2,
             "#de77ae"
            ],
            [
             0.3,
             "#f1b6da"
            ],
            [
             0.4,
             "#fde0ef"
            ],
            [
             0.5,
             "#f7f7f7"
            ],
            [
             0.6,
             "#e6f5d0"
            ],
            [
             0.7,
             "#b8e186"
            ],
            [
             0.8,
             "#7fbc41"
            ],
            [
             0.9,
             "#4d9221"
            ],
            [
             1,
             "#276419"
            ]
           ],
           "sequential": [
            [
             0,
             "#0d0887"
            ],
            [
             0.1111111111111111,
             "#46039f"
            ],
            [
             0.2222222222222222,
             "#7201a8"
            ],
            [
             0.3333333333333333,
             "#9c179e"
            ],
            [
             0.4444444444444444,
             "#bd3786"
            ],
            [
             0.5555555555555556,
             "#d8576b"
            ],
            [
             0.6666666666666666,
             "#ed7953"
            ],
            [
             0.7777777777777778,
             "#fb9f3a"
            ],
            [
             0.8888888888888888,
             "#fdca26"
            ],
            [
             1,
             "#f0f921"
            ]
           ],
           "sequentialminus": [
            [
             0,
             "#0d0887"
            ],
            [
             0.1111111111111111,
             "#46039f"
            ],
            [
             0.2222222222222222,
             "#7201a8"
            ],
            [
             0.3333333333333333,
             "#9c179e"
            ],
            [
             0.4444444444444444,
             "#bd3786"
            ],
            [
             0.5555555555555556,
             "#d8576b"
            ],
            [
             0.6666666666666666,
             "#ed7953"
            ],
            [
             0.7777777777777778,
             "#fb9f3a"
            ],
            [
             0.8888888888888888,
             "#fdca26"
            ],
            [
             1,
             "#f0f921"
            ]
           ]
          },
          "colorway": [
           "#636efa",
           "#EF553B",
           "#00cc96",
           "#ab63fa",
           "#FFA15A",
           "#19d3f3",
           "#FF6692",
           "#B6E880",
           "#FF97FF",
           "#FECB52"
          ],
          "font": {
           "color": "#2a3f5f"
          },
          "geo": {
           "bgcolor": "white",
           "lakecolor": "white",
           "landcolor": "white",
           "showlakes": true,
           "showland": true,
           "subunitcolor": "#C8D4E3"
          },
          "hoverlabel": {
           "align": "left"
          },
          "hovermode": "closest",
          "mapbox": {
           "style": "light"
          },
          "paper_bgcolor": "white",
          "plot_bgcolor": "white",
          "polar": {
           "angularaxis": {
            "gridcolor": "#EBF0F8",
            "linecolor": "#EBF0F8",
            "ticks": ""
           },
           "bgcolor": "white",
           "radialaxis": {
            "gridcolor": "#EBF0F8",
            "linecolor": "#EBF0F8",
            "ticks": ""
           }
          },
          "scene": {
           "xaxis": {
            "backgroundcolor": "white",
            "gridcolor": "#DFE8F3",
            "gridwidth": 2,
            "linecolor": "#EBF0F8",
            "showbackground": true,
            "ticks": "",
            "zerolinecolor": "#EBF0F8"
           },
           "yaxis": {
            "backgroundcolor": "white",
            "gridcolor": "#DFE8F3",
            "gridwidth": 2,
            "linecolor": "#EBF0F8",
            "showbackground": true,
            "ticks": "",
            "zerolinecolor": "#EBF0F8"
           },
           "zaxis": {
            "backgroundcolor": "white",
            "gridcolor": "#DFE8F3",
            "gridwidth": 2,
            "linecolor": "#EBF0F8",
            "showbackground": true,
            "ticks": "",
            "zerolinecolor": "#EBF0F8"
           }
          },
          "shapedefaults": {
           "line": {
            "color": "#2a3f5f"
           }
          },
          "ternary": {
           "aaxis": {
            "gridcolor": "#DFE8F3",
            "linecolor": "#A2B1C6",
            "ticks": ""
           },
           "baxis": {
            "gridcolor": "#DFE8F3",
            "linecolor": "#A2B1C6",
            "ticks": ""
           },
           "bgcolor": "white",
           "caxis": {
            "gridcolor": "#DFE8F3",
            "linecolor": "#A2B1C6",
            "ticks": ""
           }
          },
          "title": {
           "x": 0.05
          },
          "xaxis": {
           "automargin": true,
           "gridcolor": "#EBF0F8",
           "linecolor": "#EBF0F8",
           "ticks": "",
           "title": {
            "standoff": 15
           },
           "zerolinecolor": "#EBF0F8",
           "zerolinewidth": 2
          },
          "yaxis": {
           "automargin": true,
           "gridcolor": "#EBF0F8",
           "linecolor": "#EBF0F8",
           "ticks": "",
           "title": {
            "standoff": 15
           },
           "zerolinecolor": "#EBF0F8",
           "zerolinewidth": 2
          }
         }
        },
        "title": {
         "text": "CTGAN loss function"
        },
        "xaxis": {
         "anchor": "y",
         "domain": [
          0,
          1
         ],
         "title": {
          "text": "Epoch"
         }
        },
        "yaxis": {
         "anchor": "x",
         "domain": [
          0,
          1
         ],
         "title": {
          "text": "Loss"
         }
        }
       }
      }
     },
     "metadata": {},
     "output_type": "display_data"
    }
   ],
   "source": [
    "fig2 = synthesizer2.get_loss_values_plot()\n",
    "fig2.show()"
   ]
  },
  {
   "cell_type": "code",
   "execution_count": 116,
   "metadata": {},
   "outputs": [
    {
     "data": {
      "application/vnd.plotly.v1+json": {
       "config": {
        "plotlyServerURL": "https://plot.ly"
       },
       "data": [
        {
         "hovertemplate": "variable=Generator Loss<br>Epoch=%{x}<br>value=%{y}<extra></extra>",
         "legendgroup": "Generator Loss",
         "line": {
          "color": "#000036",
          "dash": "solid"
         },
         "marker": {
          "symbol": "circle"
         },
         "mode": "lines",
         "name": "Generator Loss",
         "orientation": "v",
         "showlegend": true,
         "type": "scatter",
         "x": {
          "bdata": "AAECAwQFBgcICQoLDA0ODxAREhMUFRYXGA==",
          "dtype": "i1"
         },
         "xaxis": "x",
         "y": {
          "bdata": "AAAA4EQXEMAAAABA6ysVwAAAAOACegDAAAAAQE7u/r8AAABAvBP6vwAAACAESfS/AAAAAMdn/L8AAACguU39vwAAAKC4Hvi/AAAAwJiV+b8AAADA7jDtvwAAAEAQMP6/AAAAwJMz+78AAADgDB/xvwAAACC4I/W/AAAAYCmE+b8AAACAVLwBwAAAACBtG/2/AAAAgO4O/78AAAAgLVYFwAAAAMAVhwTAAAAAoHQTCcAAAAAgLz4FwAAAAOA2rQfAAAAAgBdQBsA=",
          "dtype": "f8"
         },
         "yaxis": "y"
        },
        {
         "hovertemplate": "variable=Discriminator Loss<br>Epoch=%{x}<br>value=%{y}<extra></extra>",
         "legendgroup": "Discriminator Loss",
         "line": {
          "color": "#01E0C9",
          "dash": "solid"
         },
         "marker": {
          "symbol": "circle"
         },
         "mode": "lines",
         "name": "Discriminator Loss",
         "orientation": "v",
         "showlegend": true,
         "type": "scatter",
         "x": {
          "bdata": "AAECAwQFBgcICQoLDA0ODxAREhMUFRYXGA==",
          "dtype": "i1"
         },
         "xaxis": "x",
         "y": {
          "bdata": "AAAAAGAvnL8AAAAA9EvWvwAAAAAyDc6/AAAAAGM92b8AAAAAFKnCvwAAAIBIl9C/AAAAANaS3L8AAAAAfoXUPwAAAMB7LeE/AAAAQDba478AAAAAMK+0vwAAAAChlse/AAAAAKBpk78AAAAANMjYvwAAAIDaTuA/AAAAALSqur8AAAAAiJXQPwAAAIBH3Og/AAAAAIytt78AAAAAnFTKPwAAAADIIcw/AAAAAMBLjb8AAAAAf0TUvwAAAAAAR7k/AAAAAD9T1T8=",
          "dtype": "f8"
         },
         "yaxis": "y"
        }
       ],
       "layout": {
        "font": {
         "size": 18
        },
        "legend": {
         "orientation": "v",
         "title": {
          "text": ""
         },
         "tracegroupgap": 0
        },
        "margin": {
         "t": 60
        },
        "plot_bgcolor": "#F5F5F8",
        "template": {
         "data": {
          "bar": [
           {
            "error_x": {
             "color": "#2a3f5f"
            },
            "error_y": {
             "color": "#2a3f5f"
            },
            "marker": {
             "line": {
              "color": "white",
              "width": 0.5
             },
             "pattern": {
              "fillmode": "overlay",
              "size": 10,
              "solidity": 0.2
             }
            },
            "type": "bar"
           }
          ],
          "barpolar": [
           {
            "marker": {
             "line": {
              "color": "white",
              "width": 0.5
             },
             "pattern": {
              "fillmode": "overlay",
              "size": 10,
              "solidity": 0.2
             }
            },
            "type": "barpolar"
           }
          ],
          "carpet": [
           {
            "aaxis": {
             "endlinecolor": "#2a3f5f",
             "gridcolor": "#C8D4E3",
             "linecolor": "#C8D4E3",
             "minorgridcolor": "#C8D4E3",
             "startlinecolor": "#2a3f5f"
            },
            "baxis": {
             "endlinecolor": "#2a3f5f",
             "gridcolor": "#C8D4E3",
             "linecolor": "#C8D4E3",
             "minorgridcolor": "#C8D4E3",
             "startlinecolor": "#2a3f5f"
            },
            "type": "carpet"
           }
          ],
          "choropleth": [
           {
            "colorbar": {
             "outlinewidth": 0,
             "ticks": ""
            },
            "type": "choropleth"
           }
          ],
          "contour": [
           {
            "colorbar": {
             "outlinewidth": 0,
             "ticks": ""
            },
            "colorscale": [
             [
              0,
              "#0d0887"
             ],
             [
              0.1111111111111111,
              "#46039f"
             ],
             [
              0.2222222222222222,
              "#7201a8"
             ],
             [
              0.3333333333333333,
              "#9c179e"
             ],
             [
              0.4444444444444444,
              "#bd3786"
             ],
             [
              0.5555555555555556,
              "#d8576b"
             ],
             [
              0.6666666666666666,
              "#ed7953"
             ],
             [
              0.7777777777777778,
              "#fb9f3a"
             ],
             [
              0.8888888888888888,
              "#fdca26"
             ],
             [
              1,
              "#f0f921"
             ]
            ],
            "type": "contour"
           }
          ],
          "contourcarpet": [
           {
            "colorbar": {
             "outlinewidth": 0,
             "ticks": ""
            },
            "type": "contourcarpet"
           }
          ],
          "heatmap": [
           {
            "colorbar": {
             "outlinewidth": 0,
             "ticks": ""
            },
            "colorscale": [
             [
              0,
              "#0d0887"
             ],
             [
              0.1111111111111111,
              "#46039f"
             ],
             [
              0.2222222222222222,
              "#7201a8"
             ],
             [
              0.3333333333333333,
              "#9c179e"
             ],
             [
              0.4444444444444444,
              "#bd3786"
             ],
             [
              0.5555555555555556,
              "#d8576b"
             ],
             [
              0.6666666666666666,
              "#ed7953"
             ],
             [
              0.7777777777777778,
              "#fb9f3a"
             ],
             [
              0.8888888888888888,
              "#fdca26"
             ],
             [
              1,
              "#f0f921"
             ]
            ],
            "type": "heatmap"
           }
          ],
          "histogram": [
           {
            "marker": {
             "pattern": {
              "fillmode": "overlay",
              "size": 10,
              "solidity": 0.2
             }
            },
            "type": "histogram"
           }
          ],
          "histogram2d": [
           {
            "colorbar": {
             "outlinewidth": 0,
             "ticks": ""
            },
            "colorscale": [
             [
              0,
              "#0d0887"
             ],
             [
              0.1111111111111111,
              "#46039f"
             ],
             [
              0.2222222222222222,
              "#7201a8"
             ],
             [
              0.3333333333333333,
              "#9c179e"
             ],
             [
              0.4444444444444444,
              "#bd3786"
             ],
             [
              0.5555555555555556,
              "#d8576b"
             ],
             [
              0.6666666666666666,
              "#ed7953"
             ],
             [
              0.7777777777777778,
              "#fb9f3a"
             ],
             [
              0.8888888888888888,
              "#fdca26"
             ],
             [
              1,
              "#f0f921"
             ]
            ],
            "type": "histogram2d"
           }
          ],
          "histogram2dcontour": [
           {
            "colorbar": {
             "outlinewidth": 0,
             "ticks": ""
            },
            "colorscale": [
             [
              0,
              "#0d0887"
             ],
             [
              0.1111111111111111,
              "#46039f"
             ],
             [
              0.2222222222222222,
              "#7201a8"
             ],
             [
              0.3333333333333333,
              "#9c179e"
             ],
             [
              0.4444444444444444,
              "#bd3786"
             ],
             [
              0.5555555555555556,
              "#d8576b"
             ],
             [
              0.6666666666666666,
              "#ed7953"
             ],
             [
              0.7777777777777778,
              "#fb9f3a"
             ],
             [
              0.8888888888888888,
              "#fdca26"
             ],
             [
              1,
              "#f0f921"
             ]
            ],
            "type": "histogram2dcontour"
           }
          ],
          "mesh3d": [
           {
            "colorbar": {
             "outlinewidth": 0,
             "ticks": ""
            },
            "type": "mesh3d"
           }
          ],
          "parcoords": [
           {
            "line": {
             "colorbar": {
              "outlinewidth": 0,
              "ticks": ""
             }
            },
            "type": "parcoords"
           }
          ],
          "pie": [
           {
            "automargin": true,
            "type": "pie"
           }
          ],
          "scatter": [
           {
            "fillpattern": {
             "fillmode": "overlay",
             "size": 10,
             "solidity": 0.2
            },
            "type": "scatter"
           }
          ],
          "scatter3d": [
           {
            "line": {
             "colorbar": {
              "outlinewidth": 0,
              "ticks": ""
             }
            },
            "marker": {
             "colorbar": {
              "outlinewidth": 0,
              "ticks": ""
             }
            },
            "type": "scatter3d"
           }
          ],
          "scattercarpet": [
           {
            "marker": {
             "colorbar": {
              "outlinewidth": 0,
              "ticks": ""
             }
            },
            "type": "scattercarpet"
           }
          ],
          "scattergeo": [
           {
            "marker": {
             "colorbar": {
              "outlinewidth": 0,
              "ticks": ""
             }
            },
            "type": "scattergeo"
           }
          ],
          "scattergl": [
           {
            "marker": {
             "colorbar": {
              "outlinewidth": 0,
              "ticks": ""
             }
            },
            "type": "scattergl"
           }
          ],
          "scattermap": [
           {
            "marker": {
             "colorbar": {
              "outlinewidth": 0,
              "ticks": ""
             }
            },
            "type": "scattermap"
           }
          ],
          "scattermapbox": [
           {
            "marker": {
             "colorbar": {
              "outlinewidth": 0,
              "ticks": ""
             }
            },
            "type": "scattermapbox"
           }
          ],
          "scatterpolar": [
           {
            "marker": {
             "colorbar": {
              "outlinewidth": 0,
              "ticks": ""
             }
            },
            "type": "scatterpolar"
           }
          ],
          "scatterpolargl": [
           {
            "marker": {
             "colorbar": {
              "outlinewidth": 0,
              "ticks": ""
             }
            },
            "type": "scatterpolargl"
           }
          ],
          "scatterternary": [
           {
            "marker": {
             "colorbar": {
              "outlinewidth": 0,
              "ticks": ""
             }
            },
            "type": "scatterternary"
           }
          ],
          "surface": [
           {
            "colorbar": {
             "outlinewidth": 0,
             "ticks": ""
            },
            "colorscale": [
             [
              0,
              "#0d0887"
             ],
             [
              0.1111111111111111,
              "#46039f"
             ],
             [
              0.2222222222222222,
              "#7201a8"
             ],
             [
              0.3333333333333333,
              "#9c179e"
             ],
             [
              0.4444444444444444,
              "#bd3786"
             ],
             [
              0.5555555555555556,
              "#d8576b"
             ],
             [
              0.6666666666666666,
              "#ed7953"
             ],
             [
              0.7777777777777778,
              "#fb9f3a"
             ],
             [
              0.8888888888888888,
              "#fdca26"
             ],
             [
              1,
              "#f0f921"
             ]
            ],
            "type": "surface"
           }
          ],
          "table": [
           {
            "cells": {
             "fill": {
              "color": "#EBF0F8"
             },
             "line": {
              "color": "white"
             }
            },
            "header": {
             "fill": {
              "color": "#C8D4E3"
             },
             "line": {
              "color": "white"
             }
            },
            "type": "table"
           }
          ]
         },
         "layout": {
          "annotationdefaults": {
           "arrowcolor": "#2a3f5f",
           "arrowhead": 0,
           "arrowwidth": 1
          },
          "autotypenumbers": "strict",
          "coloraxis": {
           "colorbar": {
            "outlinewidth": 0,
            "ticks": ""
           }
          },
          "colorscale": {
           "diverging": [
            [
             0,
             "#8e0152"
            ],
            [
             0.1,
             "#c51b7d"
            ],
            [
             0.2,
             "#de77ae"
            ],
            [
             0.3,
             "#f1b6da"
            ],
            [
             0.4,
             "#fde0ef"
            ],
            [
             0.5,
             "#f7f7f7"
            ],
            [
             0.6,
             "#e6f5d0"
            ],
            [
             0.7,
             "#b8e186"
            ],
            [
             0.8,
             "#7fbc41"
            ],
            [
             0.9,
             "#4d9221"
            ],
            [
             1,
             "#276419"
            ]
           ],
           "sequential": [
            [
             0,
             "#0d0887"
            ],
            [
             0.1111111111111111,
             "#46039f"
            ],
            [
             0.2222222222222222,
             "#7201a8"
            ],
            [
             0.3333333333333333,
             "#9c179e"
            ],
            [
             0.4444444444444444,
             "#bd3786"
            ],
            [
             0.5555555555555556,
             "#d8576b"
            ],
            [
             0.6666666666666666,
             "#ed7953"
            ],
            [
             0.7777777777777778,
             "#fb9f3a"
            ],
            [
             0.8888888888888888,
             "#fdca26"
            ],
            [
             1,
             "#f0f921"
            ]
           ],
           "sequentialminus": [
            [
             0,
             "#0d0887"
            ],
            [
             0.1111111111111111,
             "#46039f"
            ],
            [
             0.2222222222222222,
             "#7201a8"
            ],
            [
             0.3333333333333333,
             "#9c179e"
            ],
            [
             0.4444444444444444,
             "#bd3786"
            ],
            [
             0.5555555555555556,
             "#d8576b"
            ],
            [
             0.6666666666666666,
             "#ed7953"
            ],
            [
             0.7777777777777778,
             "#fb9f3a"
            ],
            [
             0.8888888888888888,
             "#fdca26"
            ],
            [
             1,
             "#f0f921"
            ]
           ]
          },
          "colorway": [
           "#636efa",
           "#EF553B",
           "#00cc96",
           "#ab63fa",
           "#FFA15A",
           "#19d3f3",
           "#FF6692",
           "#B6E880",
           "#FF97FF",
           "#FECB52"
          ],
          "font": {
           "color": "#2a3f5f"
          },
          "geo": {
           "bgcolor": "white",
           "lakecolor": "white",
           "landcolor": "white",
           "showlakes": true,
           "showland": true,
           "subunitcolor": "#C8D4E3"
          },
          "hoverlabel": {
           "align": "left"
          },
          "hovermode": "closest",
          "mapbox": {
           "style": "light"
          },
          "paper_bgcolor": "white",
          "plot_bgcolor": "white",
          "polar": {
           "angularaxis": {
            "gridcolor": "#EBF0F8",
            "linecolor": "#EBF0F8",
            "ticks": ""
           },
           "bgcolor": "white",
           "radialaxis": {
            "gridcolor": "#EBF0F8",
            "linecolor": "#EBF0F8",
            "ticks": ""
           }
          },
          "scene": {
           "xaxis": {
            "backgroundcolor": "white",
            "gridcolor": "#DFE8F3",
            "gridwidth": 2,
            "linecolor": "#EBF0F8",
            "showbackground": true,
            "ticks": "",
            "zerolinecolor": "#EBF0F8"
           },
           "yaxis": {
            "backgroundcolor": "white",
            "gridcolor": "#DFE8F3",
            "gridwidth": 2,
            "linecolor": "#EBF0F8",
            "showbackground": true,
            "ticks": "",
            "zerolinecolor": "#EBF0F8"
           },
           "zaxis": {
            "backgroundcolor": "white",
            "gridcolor": "#DFE8F3",
            "gridwidth": 2,
            "linecolor": "#EBF0F8",
            "showbackground": true,
            "ticks": "",
            "zerolinecolor": "#EBF0F8"
           }
          },
          "shapedefaults": {
           "line": {
            "color": "#2a3f5f"
           }
          },
          "ternary": {
           "aaxis": {
            "gridcolor": "#DFE8F3",
            "linecolor": "#A2B1C6",
            "ticks": ""
           },
           "baxis": {
            "gridcolor": "#DFE8F3",
            "linecolor": "#A2B1C6",
            "ticks": ""
           },
           "bgcolor": "white",
           "caxis": {
            "gridcolor": "#DFE8F3",
            "linecolor": "#A2B1C6",
            "ticks": ""
           }
          },
          "title": {
           "x": 0.05
          },
          "xaxis": {
           "automargin": true,
           "gridcolor": "#EBF0F8",
           "linecolor": "#EBF0F8",
           "ticks": "",
           "title": {
            "standoff": 15
           },
           "zerolinecolor": "#EBF0F8",
           "zerolinewidth": 2
          },
          "yaxis": {
           "automargin": true,
           "gridcolor": "#EBF0F8",
           "linecolor": "#EBF0F8",
           "ticks": "",
           "title": {
            "standoff": 15
           },
           "zerolinecolor": "#EBF0F8",
           "zerolinewidth": 2
          }
         }
        },
        "title": {
         "text": "CTGAN loss function"
        },
        "xaxis": {
         "anchor": "y",
         "domain": [
          0,
          1
         ],
         "title": {
          "text": "Epoch"
         }
        },
        "yaxis": {
         "anchor": "x",
         "domain": [
          0,
          1
         ],
         "title": {
          "text": "Loss"
         }
        }
       }
      }
     },
     "metadata": {},
     "output_type": "display_data"
    }
   ],
   "source": [
    "fig2 = synthesizer2.get_loss_values_plot()\n",
    "fig2.show()"
   ]
  },
  {
   "cell_type": "code",
   "execution_count": 122,
   "metadata": {},
   "outputs": [
    {
     "name": "stderr",
     "output_type": "stream",
     "text": [
      "Sampling conditions: 100%|██████████| 9000/9000 [00:05<00:00, 1775.26it/s]"
     ]
    },
    {
     "name": "stdout",
     "output_type": "stream",
     "text": [
      "   fyear  gvkey  p_aaer  misstate      act      ap           at         ceq  \\\n",
      "0   1998  65762     NaN         1  309.834  34.970  1851.788130  210.839779   \n",
      "1   1990  15857     NaN         1  219.038  10.755   430.000454  140.759068   \n",
      "2   2001  63829     NaN         1   41.589   0.374  3294.082220  146.291829   \n",
      "3   1998  66261     NaN         1   20.304   0.000    37.294935   21.693516   \n",
      "4   1995  66890     NaN         1   51.026   0.000   142.565515   75.177745   \n",
      "\n",
      "       che        cogs  ...  soft_assets     ch_cs     ch_cm    ch_roa  issue  \\\n",
      "0   10.374  609.860413  ...     0.515196  0.109256  2.174971       NaN      1   \n",
      "1  149.594  510.824752  ...     0.705251 -0.279311       NaN -0.094574      1   \n",
      "2  172.498   43.388630  ...     0.641893  1.338392  0.040225       NaN      1   \n",
      "3    5.525   21.901608  ...     0.023417  0.123823 -0.648930 -0.406583      1   \n",
      "4    8.577   60.638118  ...     0.723573  0.054951 -0.298224 -0.008553      1   \n",
      "\n",
      "         bm       dpi      reoa      EBIT    ch_fcf  \n",
      "0  0.334546  0.827759  0.483450  0.093467 -0.662733  \n",
      "1  0.125418  0.966122 -0.079851  0.109906 -0.032266  \n",
      "2  0.200086  0.861938 -1.436329  0.047029 -1.726887  \n",
      "3  0.059131  0.830094  0.452329  0.016267 -0.081228  \n",
      "4  0.520913  0.720093  0.352054  0.413296 -0.111244  \n",
      "\n",
      "[5 rows x 46 columns]\n"
     ]
    },
    {
     "name": "stderr",
     "output_type": "stream",
     "text": [
      "\n"
     ]
    }
   ],
   "source": [
    "from sdv.sampling import Condition  \n",
    "\n",
    "rows_1 = Condition(\n",
    "    num_rows=9000,\n",
    "    column_values={'misstate':1}\n",
    ")\n",
    "\n",
    "synthetic_data2 = synthesizer2.sample_from_conditions(conditions=[rows_1])\n",
    "print(synthetic_data2.head())"
   ]
  },
  {
   "cell_type": "code",
   "execution_count": 123,
   "metadata": {},
   "outputs": [
    {
     "name": "stdout",
     "output_type": "stream",
     "text": [
      "Count of misstate = 1: 9000\n",
      "Count of misstate = 0: 0\n"
     ]
    }
   ],
   "source": [
    "print(\"Count of misstate = 1:\", (synthetic_data2['misstate'] == 1).sum())\n",
    "print(\"Count of misstate = 0:\", (synthetic_data2['misstate'] == 0).sum())"
   ]
  },
  {
   "cell_type": "code",
   "execution_count": 124,
   "metadata": {},
   "outputs": [
    {
     "name": "stdout",
     "output_type": "stream",
     "text": [
      "        fyear   gvkey  p_aaer  misstate       act        ap           at  \\\n",
      "0        2006  165680     NaN         0   716.408    40.542  1097.955000   \n",
      "1        1996    5211     NaN         0   236.283   120.294  2143.490000   \n",
      "2        1999   66100     NaN         0     1.386     0.303     2.104000   \n",
      "3        2006   14597     NaN         0    30.674     3.587    65.839000   \n",
      "4        2001   24757     NaN         0   118.677    23.562  7302.892000   \n",
      "...       ...     ...     ...       ...       ...       ...          ...   \n",
      "155040   2010   23877     NaN         0  3034.941   942.226  8495.585000   \n",
      "155041   2007   28286     NaN         0   791.534    87.947  2874.968000   \n",
      "155042   2012  108160     NaN         0    10.234     0.969    17.444000   \n",
      "155043   1994   11290     NaN         1    45.180     6.852   577.824602   \n",
      "155044   2010  145049     NaN         0  2154.800  1028.100  5063.800000   \n",
      "\n",
      "                ceq       che         cogs  ...  soft_assets     ch_cs  \\\n",
      "0        652.463000   304.385   438.609000  ...     0.619169  1.068990   \n",
      "1       1290.883000    81.908   759.108000  ...     0.155463  0.024822   \n",
      "2          0.639000     0.001     5.531000  ...     0.792776 -0.085257   \n",
      "3         17.862000    25.270     7.570000  ...     0.604581 -0.121763   \n",
      "4       5346.983000    11.640   281.184000  ...     0.911007  0.390790   \n",
      "...             ...       ...          ...  ...          ...       ...   \n",
      "155040  4199.166000  1870.837  8517.999000  ...     0.748914 -0.173018   \n",
      "155041   740.693000   197.803   637.970000  ...     0.433416  0.109064   \n",
      "155042    11.556000     2.146    19.324000  ...     0.510319 -0.020967   \n",
      "155043   332.238434     6.857   670.039812  ...     0.624469  0.025800   \n",
      "155044  2897.300000   710.800  6936.100000  ...     0.738418  0.043198   \n",
      "\n",
      "           ch_cm    ch_roa  issue        bm       dpi      reoa      EBIT  \\\n",
      "0      -0.220249  0.022864      1  0.128299  0.977513  0.142938  0.108823   \n",
      "1      -0.030918  0.009667      1  0.334728  1.183580  0.399449  0.163058   \n",
      "2      -0.610191 -0.479332      0  0.843230  0.725420 -0.625951 -0.564639   \n",
      "3      -0.161947  0.109980      1  0.070487  0.666925 -3.105986 -0.153344   \n",
      "4       0.691120  0.061578      1  1.809267  0.350208 -0.032420 -0.047685   \n",
      "...          ...       ...    ...       ...       ...       ...       ...   \n",
      "155040  0.260719  0.022159      1  1.064462  1.016337  0.433270  0.090277   \n",
      "155041  0.112464  0.026348      1  0.144953  1.533835  0.187723  0.178025   \n",
      "155042 -0.158157 -0.060222      1  1.322524  1.002736 -1.117232 -0.052339   \n",
      "155043 -0.375087  0.015770      1  0.320600  0.983148  0.583441  0.043508   \n",
      "155044  0.024888  0.001751      1  0.941838  0.982211  0.388700  0.130258   \n",
      "\n",
      "          ch_fcf  \n",
      "0      -0.414603  \n",
      "1      -0.005876  \n",
      "2      -0.073738  \n",
      "3      -0.451403  \n",
      "4      -1.384240  \n",
      "...          ...  \n",
      "155040  0.008655  \n",
      "155041 -0.013532  \n",
      "155042 -0.146955  \n",
      "155043 -0.246901  \n",
      "155044 -0.067386  \n",
      "\n",
      "[155045 rows x 46 columns]\n"
     ]
    }
   ],
   "source": [
    "import pandas as pd\n",
    "\n",
    "# Sample DataFrames\n",
    "df1 = data\n",
    "df22 = synthetic_data2\n",
    "\n",
    "# Merge (concatenate rows)\n",
    "df_merged2 = pd.concat([df1, df22], ignore_index=True)\n",
    "\n",
    "df_merged2 = df_merged2.sample(frac=1, random_state=42).reset_index(drop=True)\n",
    "\n",
    "print(df_merged2)\n"
   ]
  },
  {
   "cell_type": "code",
   "execution_count": 125,
   "metadata": {},
   "outputs": [
    {
     "name": "stdout",
     "output_type": "stream",
     "text": [
      "Count of misstate = 1: 9964\n",
      "Count of misstate = 0: 145081\n"
     ]
    }
   ],
   "source": [
    "print(\"Count of misstate = 1:\", (df_merged2['misstate'] == 1).sum())\n",
    "print(\"Count of misstate = 0:\", (df_merged2['misstate'] == 0).sum())"
   ]
  },
  {
   "cell_type": "code",
   "execution_count": 126,
   "metadata": {},
   "outputs": [],
   "source": [
    "df_merged2.to_csv(\"data_FraudDetection_GAN_class1_25_9K.csv\", index=False)"
   ]
  }
 ],
 "metadata": {
  "kernelspec": {
   "display_name": "Python 3",
   "language": "python",
   "name": "python3"
  },
  "language_info": {
   "codemirror_mode": {
    "name": "ipython",
    "version": 3
   },
   "file_extension": ".py",
   "mimetype": "text/x-python",
   "name": "python",
   "nbconvert_exporter": "python",
   "pygments_lexer": "ipython3",
   "version": "3.11.5"
  }
 },
 "nbformat": 4,
 "nbformat_minor": 2
}
