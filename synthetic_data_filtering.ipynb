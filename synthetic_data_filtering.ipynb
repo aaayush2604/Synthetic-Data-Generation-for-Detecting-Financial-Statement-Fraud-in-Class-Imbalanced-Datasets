{
 "cells": [
  {
   "cell_type": "code",
   "execution_count": 41,
   "metadata": {},
   "outputs": [],
   "source": [
    "import pandas as pd\n",
    "import numpy as np\n",
    "from sklearn.ensemble import IsolationForest\n",
    "\n",
    "# Load datasets\n",
    "original = pd.read_csv(\"data_FraudDetection_JAR2020.csv\")  # Original dataset\n",
    "gan= pd.read_csv(\"data_FraudDetection_balanced.csv\")  # Your CTGAN-generated dataset\n"
   ]
  },
  {
   "cell_type": "code",
   "execution_count": 56,
   "metadata": {},
   "outputs": [],
   "source": [
    "import pandas as pd\n",
    "import numpy as np\n",
    "\n",
    "def create_hybrid_dataset(original_path, gan_path, smote_path):\n",
    "    \"\"\"\n",
    "    Creates hybrid dataset combining:\n",
    "    - Original non-fraud cases\n",
    "    - GAN-generated fraud cases\n",
    "    - SMOTE-generated fraud cases\n",
    "    \"\"\"\n",
    "    # Load datasets\n",
    "    original = pd.read_csv(original_path)\n",
    "    gan = pd.read_csv(gan_path)\n",
    "    smote = pd.read_csv(smote_path)\n",
    "    \n",
    "    # 1. Get original non-fraud cases\n",
    "    original_non_fraud = original[original['misstate'] == 0].copy()\n",
    "    \n",
    "    # 2. Combine fraud cases from GAN and SMOTE\n",
    "    # Ensure we only take fraud cases (misstate=1)\n",
    "    gan_fraud = gan[gan['misstate'] == 1].copy()\n",
    "    smote_fraud = smote[smote['misstate'] == 1].copy()\n",
    "    combined_fraud = pd.concat([gan_fraud, smote_fraud], ignore_index=True)\n",
    "    \n",
    "    # 3. Create hybrid dataset\n",
    "    hybrid = pd.concat([original_non_fraud, combined_fraud], ignore_index=True)\n",
    "    \n",
    "    \n",
    "    # 5. Maintain original column order\n",
    "    hybrid = hybrid[original.columns]\n",
    "    \n",
    "    return hybrid\n",
    "\n",
    "# Example usage\n",
    "original_file = \"data_FraudDetection_JAR2020.csv\"\n",
    "gan_file = \"data_FraudDetection_balanced.csv\" \n",
    "smote_file = \"data_FraudDetection_adasyn.csv\"\n",
    "\n",
    "\n",
    "hybrid_data = create_hybrid_dataset(original_file, gan_file, smote_file)\n",
    "hybrid_data.to_csv(\"hybrid_dataset_adasyn.csv\", index=False)"
   ]
  },
  {
   "cell_type": "code",
   "execution_count": 57,
   "metadata": {},
   "outputs": [
    {
     "name": "stdout",
     "output_type": "stream",
     "text": [
      "Count of misstate = 1: 179637\n",
      "Count of misstate = 0: 145081\n"
     ]
    }
   ],
   "source": [
    "print(\"Count of misstate = 1:\", (hybrid_data['misstate'] == 1).sum())\n",
    "print(\"Count of misstate = 0:\", (hybrid_data['misstate'] == 0).sum())"
   ]
  },
  {
   "cell_type": "code",
   "execution_count": 58,
   "metadata": {},
   "outputs": [
    {
     "name": "stdout",
     "output_type": "stream",
     "text": [
      "<class 'pandas.core.frame.DataFrame'>\n",
      "RangeIndex: 324718 entries, 0 to 324717\n",
      "Data columns (total 46 columns):\n",
      " #   Column       Non-Null Count   Dtype  \n",
      "---  ------       --------------   -----  \n",
      " 0   fyear        324718 non-null  int64  \n",
      " 1   gvkey        324718 non-null  int64  \n",
      " 2   p_aaer       2202 non-null    float64\n",
      " 3   misstate     324718 non-null  int64  \n",
      " 4   act          324718 non-null  float64\n",
      " 5   ap           324718 non-null  float64\n",
      " 6   at           324718 non-null  float64\n",
      " 7   ceq          324718 non-null  float64\n",
      " 8   che          324718 non-null  float64\n",
      " 9   cogs         324718 non-null  float64\n",
      " 10  csho         324718 non-null  float64\n",
      " 11  dlc          324718 non-null  float64\n",
      " 12  dltis        324718 non-null  float64\n",
      " 13  dltt         324718 non-null  float64\n",
      " 14  dp           324718 non-null  float64\n",
      " 15  ib           324718 non-null  float64\n",
      " 16  invt         324718 non-null  float64\n",
      " 17  ivao         324718 non-null  float64\n",
      " 18  ivst         324718 non-null  float64\n",
      " 19  lct          324718 non-null  float64\n",
      " 20  lt           324718 non-null  float64\n",
      " 21  ni           324718 non-null  float64\n",
      " 22  ppegt        324718 non-null  float64\n",
      " 23  pstk         324718 non-null  float64\n",
      " 24  re           324718 non-null  float64\n",
      " 25  rect         324718 non-null  float64\n",
      " 26  sale         324718 non-null  float64\n",
      " 27  sstk         324718 non-null  float64\n",
      " 28  txp          324718 non-null  float64\n",
      " 29  txt          324718 non-null  float64\n",
      " 30  xint         324718 non-null  float64\n",
      " 31  prcc_f       324718 non-null  float64\n",
      " 32  dch_wc       318337 non-null  float64\n",
      " 33  ch_rsst      318150 non-null  float64\n",
      " 34  dch_rec      318244 non-null  float64\n",
      " 35  dch_inv      318430 non-null  float64\n",
      " 36  soft_assets  323919 non-null  float64\n",
      " 37  ch_cs        303091 non-null  float64\n",
      " 38  ch_cm        301519 non-null  float64\n",
      " 39  ch_roa       307456 non-null  float64\n",
      " 40  issue        324718 non-null  int64  \n",
      " 41  bm           324696 non-null  float64\n",
      " 42  dpi          312235 non-null  float64\n",
      " 43  reoa         323932 non-null  float64\n",
      " 44  EBIT         323897 non-null  float64\n",
      " 45  ch_fcf       317349 non-null  float64\n",
      "dtypes: float64(42), int64(4)\n",
      "memory usage: 114.0 MB\n"
     ]
    }
   ],
   "source": [
    "hybrid_data.info()"
   ]
  }
 ],
 "metadata": {
  "kernelspec": {
   "display_name": "Python 3",
   "language": "python",
   "name": "python3"
  },
  "language_info": {
   "codemirror_mode": {
    "name": "ipython",
    "version": 3
   },
   "file_extension": ".py",
   "mimetype": "text/x-python",
   "name": "python",
   "nbconvert_exporter": "python",
   "pygments_lexer": "ipython3",
   "version": "3.11.5"
  }
 },
 "nbformat": 4,
 "nbformat_minor": 2
}
