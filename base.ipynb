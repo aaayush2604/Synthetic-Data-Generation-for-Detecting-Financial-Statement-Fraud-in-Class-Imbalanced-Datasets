{
 "cells": [
  {
   "cell_type": "code",
   "execution_count": 1,
   "metadata": {},
   "outputs": [],
   "source": [
    "import pandas as pd\n",
    "import numpy as np\n",
    "import seaborn as sns\n",
    "import matplotlib.pyplot as plt"
   ]
  },
  {
   "cell_type": "code",
   "execution_count": 2,
   "metadata": {},
   "outputs": [],
   "source": [
    "df=pd.read_csv('data_FraudDetection_JAR2020.csv')"
   ]
  },
  {
   "cell_type": "code",
   "execution_count": 3,
   "metadata": {},
   "outputs": [
    {
     "name": "stdout",
     "output_type": "stream",
     "text": [
      "<class 'pandas.core.frame.DataFrame'>\n",
      "RangeIndex: 146045 entries, 0 to 146044\n",
      "Data columns (total 46 columns):\n",
      " #   Column       Non-Null Count   Dtype  \n",
      "---  ------       --------------   -----  \n",
      " 0   fyear        146045 non-null  int64  \n",
      " 1   gvkey        146045 non-null  int64  \n",
      " 2   p_aaer       964 non-null     float64\n",
      " 3   misstate     146045 non-null  int64  \n",
      " 4   act          146045 non-null  float64\n",
      " 5   ap           146045 non-null  float64\n",
      " 6   at           146045 non-null  float64\n",
      " 7   ceq          146045 non-null  float64\n",
      " 8   che          146045 non-null  float64\n",
      " 9   cogs         146045 non-null  float64\n",
      " 10  csho         146045 non-null  float64\n",
      " 11  dlc          146045 non-null  float64\n",
      " 12  dltis        146045 non-null  float64\n",
      " 13  dltt         146045 non-null  float64\n",
      " 14  dp           146045 non-null  float64\n",
      " 15  ib           146045 non-null  float64\n",
      " 16  invt         146045 non-null  float64\n",
      " 17  ivao         146045 non-null  float64\n",
      " 18  ivst         146045 non-null  float64\n",
      " 19  lct          146045 non-null  float64\n",
      " 20  lt           146045 non-null  float64\n",
      " 21  ni           146045 non-null  float64\n",
      " 22  ppegt        146045 non-null  float64\n",
      " 23  pstk         146045 non-null  float64\n",
      " 24  re           146045 non-null  float64\n",
      " 25  rect         146045 non-null  float64\n",
      " 26  sale         146045 non-null  float64\n",
      " 27  sstk         146045 non-null  float64\n",
      " 28  txp          146045 non-null  float64\n",
      " 29  txt          146045 non-null  float64\n",
      " 30  xint         146045 non-null  float64\n",
      " 31  prcc_f       146045 non-null  float64\n",
      " 32  dch_wc       141286 non-null  float64\n",
      " 33  ch_rsst      141194 non-null  float64\n",
      " 34  dch_rec      141302 non-null  float64\n",
      " 35  dch_inv      141430 non-null  float64\n",
      " 36  soft_assets  145453 non-null  float64\n",
      " 37  ch_cs        130127 non-null  float64\n",
      " 38  ch_cm        128938 non-null  float64\n",
      " 39  ch_roa       133367 non-null  float64\n",
      " 40  issue        146045 non-null  int64  \n",
      " 41  bm           146027 non-null  float64\n",
      " 42  dpi          136817 non-null  float64\n",
      " 43  reoa         145454 non-null  float64\n",
      " 44  EBIT         145454 non-null  float64\n",
      " 45  ch_fcf       140638 non-null  float64\n",
      "dtypes: float64(42), int64(4)\n",
      "memory usage: 51.3 MB\n"
     ]
    }
   ],
   "source": [
    "df.info()"
   ]
  },
  {
   "cell_type": "code",
   "execution_count": 4,
   "metadata": {},
   "outputs": [],
   "source": [
    "\n",
    "columns_to_check = [col for col in df.columns if col != 'p_aaer']\n",
    "\n",
    "# Drop rows with NaN values in the selected columns\n",
    "df_cleaned = df.dropna(subset=columns_to_check)\n"
   ]
  },
  {
   "cell_type": "code",
   "execution_count": 5,
   "metadata": {},
   "outputs": [
    {
     "name": "stdout",
     "output_type": "stream",
     "text": [
      "<class 'pandas.core.frame.DataFrame'>\n",
      "Index: 126483 entries, 0 to 146044\n",
      "Data columns (total 46 columns):\n",
      " #   Column       Non-Null Count   Dtype  \n",
      "---  ------       --------------   -----  \n",
      " 0   fyear        126483 non-null  int64  \n",
      " 1   gvkey        126483 non-null  int64  \n",
      " 2   p_aaer       909 non-null     float64\n",
      " 3   misstate     126483 non-null  int64  \n",
      " 4   act          126483 non-null  float64\n",
      " 5   ap           126483 non-null  float64\n",
      " 6   at           126483 non-null  float64\n",
      " 7   ceq          126483 non-null  float64\n",
      " 8   che          126483 non-null  float64\n",
      " 9   cogs         126483 non-null  float64\n",
      " 10  csho         126483 non-null  float64\n",
      " 11  dlc          126483 non-null  float64\n",
      " 12  dltis        126483 non-null  float64\n",
      " 13  dltt         126483 non-null  float64\n",
      " 14  dp           126483 non-null  float64\n",
      " 15  ib           126483 non-null  float64\n",
      " 16  invt         126483 non-null  float64\n",
      " 17  ivao         126483 non-null  float64\n",
      " 18  ivst         126483 non-null  float64\n",
      " 19  lct          126483 non-null  float64\n",
      " 20  lt           126483 non-null  float64\n",
      " 21  ni           126483 non-null  float64\n",
      " 22  ppegt        126483 non-null  float64\n",
      " 23  pstk         126483 non-null  float64\n",
      " 24  re           126483 non-null  float64\n",
      " 25  rect         126483 non-null  float64\n",
      " 26  sale         126483 non-null  float64\n",
      " 27  sstk         126483 non-null  float64\n",
      " 28  txp          126483 non-null  float64\n",
      " 29  txt          126483 non-null  float64\n",
      " 30  xint         126483 non-null  float64\n",
      " 31  prcc_f       126483 non-null  float64\n",
      " 32  dch_wc       126483 non-null  float64\n",
      " 33  ch_rsst      126483 non-null  float64\n",
      " 34  dch_rec      126483 non-null  float64\n",
      " 35  dch_inv      126483 non-null  float64\n",
      " 36  soft_assets  126483 non-null  float64\n",
      " 37  ch_cs        126483 non-null  float64\n",
      " 38  ch_cm        126483 non-null  float64\n",
      " 39  ch_roa       126483 non-null  float64\n",
      " 40  issue        126483 non-null  int64  \n",
      " 41  bm           126483 non-null  float64\n",
      " 42  dpi          126483 non-null  float64\n",
      " 43  reoa         126483 non-null  float64\n",
      " 44  EBIT         126483 non-null  float64\n",
      " 45  ch_fcf       126483 non-null  float64\n",
      "dtypes: float64(42), int64(4)\n",
      "memory usage: 45.4 MB\n"
     ]
    }
   ],
   "source": [
    "df_cleaned.info()"
   ]
  },
  {
   "cell_type": "code",
   "execution_count": 6,
   "metadata": {},
   "outputs": [
    {
     "name": "stdout",
     "output_type": "stream",
     "text": [
      "Count of misstate = 1: 909\n",
      "Count of misstate = 0: 125574\n"
     ]
    }
   ],
   "source": [
    "print(\"Count of misstate = 1:\", (df_cleaned['misstate'] == 1).sum())\n",
    "print(\"Count of misstate = 0:\", (df_cleaned['misstate'] == 0).sum())"
   ]
  },
  {
   "cell_type": "code",
   "execution_count": 7,
   "metadata": {},
   "outputs": [],
   "source": [
    "df_cleaned.to_csv(\"data_FraudDetection_Cleaned.csv\", index=False)"
   ]
  },
  {
   "cell_type": "code",
   "execution_count": 8,
   "metadata": {},
   "outputs": [],
   "source": [
    "from imblearn.over_sampling import SMOTE\n",
    "\n",
    "# Selecting only numerical features for synthetic data generation\n",
    "features = [col for col in df_cleaned.columns if col not in ['fyear', 'gvkey', 'p_aaer']]\n",
    "X = df_cleaned[features]\n",
    "y = df_cleaned['misstate']  # If you have a target column\n",
    "\n",
    "# Apply SMOTE\n",
    "smote = SMOTE(sampling_strategy='auto', random_state=42)\n",
    "X_smote, y_smote = smote.fit_resample(X, y)\n",
    "\n",
    "# Identify newly added samples\n",
    "num_new_samples = len(X_smote) - len(X)  # The number of synthetic samples\n",
    "\n",
    "# Convert back to DataFrame\n",
    "df_smote = pd.DataFrame(X_smote, columns=features)\n",
    "df_smote['misstate'] = y_smote  # Restore target\n",
    "\n",
    "# Assign fyear and gvkey randomly from the original dataset\n",
    "df_smote['fyear'] = df_cleaned['fyear'].sample(len(df_smote), replace=True).values\n",
    "df_smote['gvkey'] = df_cleaned['gvkey'].sample(len(df_smote), replace=True).values\n",
    "\n",
    "# Retain original p_aaer values, set new ones to NaN\n",
    "df_smote['p_aaer'] = pd.concat([\n",
    "    df_cleaned['p_aaer'], \n",
    "    pd.Series([None] * num_new_samples, index=range(len(df_cleaned), len(df_smote)))\n",
    "], ignore_index=True)\n",
    "\n",
    "desired_order = [\n",
    "    \"fyear\", \"gvkey\", \"p_aaer\", \"misstate\", \"act\", \"ap\", \"at\", \"ceq\", \"che\", \"cogs\", \n",
    "    \"csho\", \"dlc\", \"dltis\", \"dltt\", \"dp\", \"ib\", \"invt\", \"ivao\", \"ivst\", \"lct\", \"lt\", \"ni\", \n",
    "    \"ppegt\", \"pstk\", \"re\", \"rect\", \"sale\", \"sstk\", \"txp\", \"txt\", \"xint\", \"prcc_f\", \"dch_wc\", \n",
    "    \"ch_rsst\", \"dch_rec\", \"dch_inv\", \"soft_assets\", \"ch_cs\", \"ch_cm\", \"ch_roa\", \"issue\", \n",
    "    \"bm\", \"dpi\", \"reoa\", \"EBIT\", \"ch_fcf\"\n",
    "]\n",
    "\n",
    "df_smote = df_smote[desired_order]  # Reorder DataFrame columns\n",
    "\n",
    "\n",
    "df_smote.to_csv(\"data_FraudDetection_smote.csv\", index=False)\n"
   ]
  },
  {
   "cell_type": "code",
   "execution_count": 9,
   "metadata": {},
   "outputs": [
    {
     "name": "stdout",
     "output_type": "stream",
     "text": [
      "<class 'pandas.core.frame.DataFrame'>\n",
      "RangeIndex: 251148 entries, 0 to 251147\n",
      "Data columns (total 46 columns):\n",
      " #   Column       Non-Null Count   Dtype  \n",
      "---  ------       --------------   -----  \n",
      " 0   fyear        251148 non-null  int64  \n",
      " 1   gvkey        251148 non-null  int64  \n",
      " 2   p_aaer       909 non-null     object \n",
      " 3   misstate     251148 non-null  int64  \n",
      " 4   act          251148 non-null  float64\n",
      " 5   ap           251148 non-null  float64\n",
      " 6   at           251148 non-null  float64\n",
      " 7   ceq          251148 non-null  float64\n",
      " 8   che          251148 non-null  float64\n",
      " 9   cogs         251148 non-null  float64\n",
      " 10  csho         251148 non-null  float64\n",
      " 11  dlc          251148 non-null  float64\n",
      " 12  dltis        251148 non-null  float64\n",
      " 13  dltt         251148 non-null  float64\n",
      " 14  dp           251148 non-null  float64\n",
      " 15  ib           251148 non-null  float64\n",
      " 16  invt         251148 non-null  float64\n",
      " 17  ivao         251148 non-null  float64\n",
      " 18  ivst         251148 non-null  float64\n",
      " 19  lct          251148 non-null  float64\n",
      " 20  lt           251148 non-null  float64\n",
      " 21  ni           251148 non-null  float64\n",
      " 22  ppegt        251148 non-null  float64\n",
      " 23  pstk         251148 non-null  float64\n",
      " 24  re           251148 non-null  float64\n",
      " 25  rect         251148 non-null  float64\n",
      " 26  sale         251148 non-null  float64\n",
      " 27  sstk         251148 non-null  float64\n",
      " 28  txp          251148 non-null  float64\n",
      " 29  txt          251148 non-null  float64\n",
      " 30  xint         251148 non-null  float64\n",
      " 31  prcc_f       251148 non-null  float64\n",
      " 32  dch_wc       251148 non-null  float64\n",
      " 33  ch_rsst      251148 non-null  float64\n",
      " 34  dch_rec      251148 non-null  float64\n",
      " 35  dch_inv      251148 non-null  float64\n",
      " 36  soft_assets  251148 non-null  float64\n",
      " 37  ch_cs        251148 non-null  float64\n",
      " 38  ch_cm        251148 non-null  float64\n",
      " 39  ch_roa       251148 non-null  float64\n",
      " 40  issue        251148 non-null  int64  \n",
      " 41  bm           251148 non-null  float64\n",
      " 42  dpi          251148 non-null  float64\n",
      " 43  reoa         251148 non-null  float64\n",
      " 44  EBIT         251148 non-null  float64\n",
      " 45  ch_fcf       251148 non-null  float64\n",
      "dtypes: float64(41), int64(4), object(1)\n",
      "memory usage: 88.1+ MB\n"
     ]
    }
   ],
   "source": [
    "df_smote.info()"
   ]
  },
  {
   "cell_type": "code",
   "execution_count": 10,
   "metadata": {},
   "outputs": [
    {
     "name": "stdout",
     "output_type": "stream",
     "text": [
      "Count of misstate = 1: 125574\n",
      "Count of misstate = 0: 125574\n"
     ]
    }
   ],
   "source": [
    "print(\"Count of misstate = 1:\", (df_smote['misstate'] == 1).sum())\n",
    "print(\"Count of misstate = 0:\", (df_smote['misstate'] == 0).sum())\n"
   ]
  },
  {
   "cell_type": "code",
   "execution_count": 11,
   "metadata": {},
   "outputs": [],
   "source": [
    "from imblearn.over_sampling import ADASYN\n",
    "\n",
    "# Selecting only numerical features for synthetic data generation\n",
    "features = [col for col in df_cleaned.columns if col not in ['fyear', 'gvkey', 'p_aaer']]\n",
    "X = df_cleaned[features]\n",
    "y = df_cleaned['misstate']  # If you have a target column\n",
    "\n",
    "# Apply ADASYN\n",
    "adasyn = ADASYN(sampling_strategy='auto', random_state=42)\n",
    "X_adasyn, y_adasyn = adasyn.fit_resample(X, y)\n",
    "\n",
    "# Identify newly added samples\n",
    "num_new_samples = len(X_adasyn) - len(X)  # The number of synthetic samples\n",
    "\n",
    "# Convert back to DataFrame\n",
    "df_adasyn = pd.DataFrame(X_adasyn, columns=features)\n",
    "df_adasyn['misstate'] = y_adasyn  # Restore target\n",
    "\n",
    "# Assign fyear and gvkey randomly from the original dataset\n",
    "df_adasyn['fyear'] = df_cleaned['fyear'].sample(len(df_adasyn), replace=True).values\n",
    "df_adasyn['gvkey'] = df_cleaned['gvkey'].sample(len(df_adasyn), replace=True).values\n",
    "\n",
    "# Retain original p_aaer values, set new ones to NaN\n",
    "df_adasyn['p_aaer'] = pd.concat([\n",
    "    df_cleaned['p_aaer'], \n",
    "    pd.Series([None] * num_new_samples, index=range(len(df_cleaned), len(df_adasyn)))\n",
    "], ignore_index=True)\n",
    "\n",
    "# Reorder DataFrame columns\n",
    "desired_order = [\n",
    "    \"fyear\", \"gvkey\", \"p_aaer\", \"misstate\", \"act\", \"ap\", \"at\", \"ceq\", \"che\", \"cogs\", \n",
    "    \"csho\", \"dlc\", \"dltis\", \"dltt\", \"dp\", \"ib\", \"invt\", \"ivao\", \"ivst\", \"lct\", \"lt\", \"ni\", \n",
    "    \"ppegt\", \"pstk\", \"re\", \"rect\", \"sale\", \"sstk\", \"txp\", \"txt\", \"xint\", \"prcc_f\", \"dch_wc\", \n",
    "    \"ch_rsst\", \"dch_rec\", \"dch_inv\", \"soft_assets\", \"ch_cs\", \"ch_cm\", \"ch_roa\", \"issue\", \n",
    "    \"bm\", \"dpi\", \"reoa\", \"EBIT\", \"ch_fcf\"\n",
    "]\n",
    "\n",
    "df_adasyn = df_adasyn[desired_order]  \n",
    "\n",
    "# Save the new dataset\n",
    "df_adasyn.to_csv(\"data_FraudDetection_adasyn.csv\", index=False)\n"
   ]
  },
  {
   "cell_type": "code",
   "execution_count": 12,
   "metadata": {},
   "outputs": [
    {
     "name": "stdout",
     "output_type": "stream",
     "text": [
      "<class 'pandas.core.frame.DataFrame'>\n",
      "RangeIndex: 251367 entries, 0 to 251366\n",
      "Data columns (total 46 columns):\n",
      " #   Column       Non-Null Count   Dtype  \n",
      "---  ------       --------------   -----  \n",
      " 0   fyear        251367 non-null  int64  \n",
      " 1   gvkey        251367 non-null  int64  \n",
      " 2   p_aaer       909 non-null     object \n",
      " 3   misstate     251367 non-null  int64  \n",
      " 4   act          251367 non-null  float64\n",
      " 5   ap           251367 non-null  float64\n",
      " 6   at           251367 non-null  float64\n",
      " 7   ceq          251367 non-null  float64\n",
      " 8   che          251367 non-null  float64\n",
      " 9   cogs         251367 non-null  float64\n",
      " 10  csho         251367 non-null  float64\n",
      " 11  dlc          251367 non-null  float64\n",
      " 12  dltis        251367 non-null  float64\n",
      " 13  dltt         251367 non-null  float64\n",
      " 14  dp           251367 non-null  float64\n",
      " 15  ib           251367 non-null  float64\n",
      " 16  invt         251367 non-null  float64\n",
      " 17  ivao         251367 non-null  float64\n",
      " 18  ivst         251367 non-null  float64\n",
      " 19  lct          251367 non-null  float64\n",
      " 20  lt           251367 non-null  float64\n",
      " 21  ni           251367 non-null  float64\n",
      " 22  ppegt        251367 non-null  float64\n",
      " 23  pstk         251367 non-null  float64\n",
      " 24  re           251367 non-null  float64\n",
      " 25  rect         251367 non-null  float64\n",
      " 26  sale         251367 non-null  float64\n",
      " 27  sstk         251367 non-null  float64\n",
      " 28  txp          251367 non-null  float64\n",
      " 29  txt          251367 non-null  float64\n",
      " 30  xint         251367 non-null  float64\n",
      " 31  prcc_f       251367 non-null  float64\n",
      " 32  dch_wc       251367 non-null  float64\n",
      " 33  ch_rsst      251367 non-null  float64\n",
      " 34  dch_rec      251367 non-null  float64\n",
      " 35  dch_inv      251367 non-null  float64\n",
      " 36  soft_assets  251367 non-null  float64\n",
      " 37  ch_cs        251367 non-null  float64\n",
      " 38  ch_cm        251367 non-null  float64\n",
      " 39  ch_roa       251367 non-null  float64\n",
      " 40  issue        251367 non-null  int64  \n",
      " 41  bm           251367 non-null  float64\n",
      " 42  dpi          251367 non-null  float64\n",
      " 43  reoa         251367 non-null  float64\n",
      " 44  EBIT         251367 non-null  float64\n",
      " 45  ch_fcf       251367 non-null  float64\n",
      "dtypes: float64(41), int64(4), object(1)\n",
      "memory usage: 88.2+ MB\n"
     ]
    }
   ],
   "source": [
    "df_adasyn.info()"
   ]
  },
  {
   "cell_type": "code",
   "execution_count": 13,
   "metadata": {},
   "outputs": [
    {
     "name": "stdout",
     "output_type": "stream",
     "text": [
      "Count of misstate = 1: 125793\n",
      "Count of misstate = 0: 125574\n"
     ]
    }
   ],
   "source": [
    "print(\"Count of misstate = 1:\", (df_adasyn['misstate'] == 1).sum())\n",
    "print(\"Count of misstate = 0:\", (df_adasyn['misstate'] == 0).sum())"
   ]
  },
  {
   "cell_type": "code",
   "execution_count": 5,
   "metadata": {},
   "outputs": [
    {
     "data": {
      "image/png": "[encoded data removed]",
      "text/plain": [
       "<Figure size 1200x600 with 2 Axes>"
      ]
     },
     "metadata": {},
     "output_type": "display_data"
    }
   ],
   "source": [
    "import matplotlib.pyplot as plt\n",
    "import numpy as np\n",
    "\n",
    "# Data from your table\n",
    "approaches = ['Original', 'GAN-only', 'SMOTE-only', 'ADASYN-only', 'GAN+SMOTE', 'Final Hybrid']\n",
    "auc = [0.692, 0.389, 0.601, 0.606, 0.687, 0.709]\n",
    "accuracy = [80.82, 82.96, 63.19, 59.86, 77.10, 60.28]\n",
    "\n",
    "# Create figure and axis\n",
    "fig, ax1 = plt.subplots(figsize=(12, 6))\n",
    "\n",
    "# Set positions for bars\n",
    "x = np.arange(len(approaches))\n",
    "width = 0.35\n",
    "\n",
    "# Plot AUC on primary axis\n",
    "bars1 = ax1.bar(x - width/2, auc, width, color='#1f77b4', label='AUC')\n",
    "ax1.set_ylabel('AUC Score', color='#1f77b4')\n",
    "ax1.tick_params(axis='y', labelcolor='#1f77b4')\n",
    "ax1.set_ylim(0, 1.0)\n",
    "\n",
    "# Add AUC values on top of bars\n",
    "for bar in bars1:\n",
    "    height = bar.get_height()\n",
    "    ax1.text(bar.get_x() + bar.get_width()/2., height,\n",
    "             f'{height:.3f}',\n",
    "             ha='center', va='bottom', color='#1f77b4')\n",
    "\n",
    "# Create secondary axis for Accuracy\n",
    "ax2 = ax1.twinx()\n",
    "bars2 = ax2.bar(x + width/2, accuracy, width, color='#ff7f0e', label='Accuracy')\n",
    "ax2.set_ylabel('Accuracy (%)', color='#ff7f0e')\n",
    "ax2.tick_params(axis='y', labelcolor='#ff7f0e')\n",
    "ax2.set_ylim(0, 100)\n",
    "\n",
    "# Add Accuracy values on top of bars\n",
    "for bar in bars2:\n",
    "    height = bar.get_height()\n",
    "    ax2.text(bar.get_x() + bar.get_width()/2., height,\n",
    "             f'{height:.2f}%',\n",
    "             ha='center', va='bottom', color='#ff7f0e')\n",
    "\n",
    "# Set x-axis labels and title\n",
    "ax1.set_xticks(x)\n",
    "ax1.set_xticklabels(approaches)\n",
    "plt.title('Performance Comparison: AUC and Accuracy', y=1.05, fontsize=14, fontweight='bold')\n",
    "\n",
    "# Combine legends from both axes\n",
    "lines1, labels1 = ax1.get_legend_handles_labels()\n",
    "lines2, labels2 = ax2.get_legend_handles_labels()\n",
    "ax1.legend(lines1 + lines2, labels1 + labels2, loc='upper right')\n",
    "\n",
    "plt.tight_layout()\n",
    "plt.savefig('auc_accuracy_comparison.png', dpi=300, bbox_inches='tight')\n",
    "plt.show()"
   ]
  }
 ],
 "metadata": {
  "kernelspec": {
   "display_name": "Python 3",
   "language": "python",
   "name": "python3"
  },
  "language_info": {
   "codemirror_mode": {
    "name": "ipython",
    "version": 3
   },
   "file_extension": ".py",
   "mimetype": "text/x-python",
   "name": "python",
   "nbconvert_exporter": "python",
   "pygments_lexer": "ipython3",
   "version": "3.11.5"
  }
 },
 "nbformat": 4,
 "nbformat_minor": 2
}
