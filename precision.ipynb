{
 "cells": [
  {
   "cell_type": "code",
   "execution_count": 1,
   "metadata": {},
   "outputs": [],
   "source": [
    "import pandas as pd\n",
    "import numpy as np\n",
    "import matplotlib.pyplot as plt"
   ]
  },
  {
   "cell_type": "code",
   "execution_count": 3,
   "metadata": {},
   "outputs": [],
   "source": [
    "df1=pd.read_csv('data_FraudDetection_GAN.csv')\n",
    "df2=pd.read_csv('data_FraudDetection_GAN2.csv')\n",
    "df3=pd.read_csv('data_FraudDetection_GAN3.csv')"
   ]
  },
  {
   "cell_type": "code",
   "execution_count": 5,
   "metadata": {},
   "outputs": [
    {
     "name": "stdout",
     "output_type": "stream",
     "text": [
      "286683\n",
      "286683\n",
      "286683\n"
     ]
    }
   ],
   "source": [
    "print(len(df1))\n",
    "print(len(df2))\n",
    "print(len(df3))"
   ]
  },
  {
   "cell_type": "code",
   "execution_count": 6,
   "metadata": {},
   "outputs": [],
   "source": [
    "df1_1=df1[df1['misstate']==1]\n",
    "df2_1=df2[df2['misstate']==1]\n",
    "df3_1=df3[df3['misstate']==1]"
   ]
  },
  {
   "cell_type": "code",
   "execution_count": 8,
   "metadata": {},
   "outputs": [
    {
     "name": "stdout",
     "output_type": "stream",
     "text": [
      "27042\n",
      "27766\n",
      "27790\n"
     ]
    }
   ],
   "source": [
    "print(len(df1_1))\n",
    "print(len(df2_1))\n",
    "print(len(df3_1))"
   ]
  },
  {
   "cell_type": "code",
   "execution_count": 10,
   "metadata": {},
   "outputs": [],
   "source": [
    "df12_1=pd.concat([df1_1,df2_1],ignore_index=True)\n",
    "df_1=pd.concat([df12_1,df3_1],ignore_index=True)"
   ]
  },
  {
   "cell_type": "code",
   "execution_count": 11,
   "metadata": {},
   "outputs": [
    {
     "data": {
      "text/plain": [
       "82598"
      ]
     },
     "execution_count": 11,
     "metadata": {},
     "output_type": "execute_result"
    }
   ],
   "source": [
    "len(df_1)"
   ]
  },
  {
   "cell_type": "code",
   "execution_count": 12,
   "metadata": {},
   "outputs": [],
   "source": [
    "data=pd.read_csv('data_FraudDetection_JAR2020.csv')"
   ]
  },
  {
   "cell_type": "code",
   "execution_count": 15,
   "metadata": {},
   "outputs": [
    {
     "name": "stdout",
     "output_type": "stream",
     "text": [
      "Count of misstate = 1: 964\n",
      "Count of misstate = 0: 145081\n"
     ]
    }
   ],
   "source": [
    "print(\"Count of misstate = 1:\", (data['misstate'] == 1).sum())\n",
    "print(\"Count of misstate = 0:\", (data['misstate'] == 0).sum())"
   ]
  },
  {
   "cell_type": "code",
   "execution_count": 20,
   "metadata": {},
   "outputs": [],
   "source": [
    "data_corrected=pd.concat([data,df12_1],ignore_index=True)"
   ]
  },
  {
   "cell_type": "code",
   "execution_count": 21,
   "metadata": {},
   "outputs": [
    {
     "name": "stdout",
     "output_type": "stream",
     "text": [
      "Count of misstate = 1: 55772\n",
      "Count of misstate = 0: 145081\n"
     ]
    }
   ],
   "source": [
    "print(\"Count of misstate = 1:\", (data_corrected['misstate'] == 1).sum())\n",
    "print(\"Count of misstate = 0:\", (data_corrected['misstate'] == 0).sum())"
   ]
  },
  {
   "cell_type": "code",
   "execution_count": 22,
   "metadata": {},
   "outputs": [],
   "source": [
    "data_corrected_cleaned = data_corrected.drop_duplicates(keep='first')\n"
   ]
  },
  {
   "cell_type": "code",
   "execution_count": 23,
   "metadata": {},
   "outputs": [
    {
     "name": "stdout",
     "output_type": "stream",
     "text": [
      "Count of misstate = 1: 53844\n",
      "Count of misstate = 0: 145081\n"
     ]
    }
   ],
   "source": [
    "print(\"Count of misstate = 1:\", (data_corrected_cleaned['misstate'] == 1).sum())\n",
    "print(\"Count of misstate = 0:\", (data_corrected_cleaned['misstate'] == 0).sum())"
   ]
  },
  {
   "cell_type": "code",
   "execution_count": 24,
   "metadata": {},
   "outputs": [],
   "source": [
    "data_corrected_cleaned.to_csv(\"data_FraudDetection_balanced.csv\", index=False)"
   ]
  }
 ],
 "metadata": {
  "kernelspec": {
   "display_name": "Python 3",
   "language": "python",
   "name": "python3"
  },
  "language_info": {
   "codemirror_mode": {
    "name": "ipython",
    "version": 3
   },
   "file_extension": ".py",
   "mimetype": "text/x-python",
   "name": "python",
   "nbconvert_exporter": "python",
   "pygments_lexer": "ipython3",
   "version": "3.11.5"
  }
 },
 "nbformat": 4,
 "nbformat_minor": 2
}
